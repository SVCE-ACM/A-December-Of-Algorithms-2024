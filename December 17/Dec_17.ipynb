{
 "cells": [
  {
   "cell_type": "code",
   "execution_count": 4,
   "metadata": {},
   "outputs": [
    {
     "name": "stdout",
     "output_type": "stream",
     "text": [
      "Stored alerts:\n",
      "{'id': 'A123', 'timestamp': '00:00:10', 'threat_level': 3}\n",
      "{'id': 'B456', 'timestamp': '00:05:05', 'threat_level': 2}\n"
     ]
    }
   ],
   "source": [
    "from collections import defaultdict\n",
    "import time\n",
    "class AlertManagementSystem:\n",
    "    def __init__(self):\n",
    "        self.alerts = {}\n",
    "    def process_alert(self, alert):\n",
    "        current_time = int(alert[\"timestamp\"].replace(\":\", \"\").replace(\".\", \"\"))\n",
    "        self.evict_old_alerts(current_time)\n",
    "        if alert[\"id\"] in self.alerts:\n",
    "            last_alert = self.alerts[alert[\"id\"]]\n",
    "            last_timestamp = int(last_alert[\"timestamp\"].replace(\":\", \"\").replace(\".\", \"\"))\n",
    "            if current_time - last_timestamp <= 30:\n",
    "                return\n",
    "        self.alerts[alert[\"id\"]] = alert \n",
    "    def evict_old_alerts(self, current_time):\n",
    "        to_delete = []\n",
    "        for alert_id, alert in self.alerts.items():\n",
    "            alert_timestamp = int(alert[\"timestamp\"].replace(\":\", \"\").replace(\".\", \"\"))\n",
    "            if current_time - alert_timestamp > 500:\n",
    "                to_delete.append(alert_id)       \n",
    "        for alert_id in to_delete:\n",
    "            del self.alerts[alert_id]\n",
    "    def get_stored_alerts(self):\n",
    "        return list(self.alerts.values())\n",
    "alerts = [\n",
    "    {\"id\": \"A123\", \"timestamp\": \"00:00:10\", \"threat_level\": 3},\n",
    "    {\"id\": \"A123\", \"timestamp\": \"00:00:15\", \"threat_level\": 3},\n",
    "    {\"id\": \"B456\", \"timestamp\": \"00:00:20\", \"threat_level\": 2},\n",
    "    {\"id\": \"A123\", \"timestamp\": \"00:00:30\", \"threat_level\": 5},\n",
    "    {\"id\": \"B456\", \"timestamp\": \"00:05:05\", \"threat_level\": 2},\n",
    "]\n",
    "system = AlertManagementSystem()\n",
    "for alert in alerts:\n",
    "    system.process_alert(alert)\n",
    "stored_alerts = system.get_stored_alerts()\n",
    "print(\"Stored alerts:\")\n",
    "for alert in stored_alerts:\n",
    "    print(alert)\n"
   ]
  }
 ],
 "metadata": {
  "kernelspec": {
   "display_name": "Python 3",
   "language": "python",
   "name": "python3"
  },
  "language_info": {
   "codemirror_mode": {
    "name": "ipython",
    "version": 3
   },
   "file_extension": ".py",
   "mimetype": "text/x-python",
   "name": "python",
   "nbconvert_exporter": "python",
   "pygments_lexer": "ipython3",
   "version": "3.9.6"
  },
  "orig_nbformat": 4
 },
 "nbformat": 4,
 "nbformat_minor": 2
}
