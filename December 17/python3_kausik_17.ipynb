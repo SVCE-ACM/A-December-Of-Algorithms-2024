{
 "cells": [
  {
   "cell_type": "code",
   "execution_count": 1,
   "id": "c8a92c2c",
   "metadata": {},
   "outputs": [
    {
     "name": "stdout",
     "output_type": "stream",
     "text": [
      "Stored alerts: [{'id': 'A123', 'timestamp': '00:00:30', 'threat_level': 5}, {'id': 'B456', 'timestamp': '00:00:20', 'threat_level': 2}]\n"
     ]
    }
   ],
   "source": [
    "from datetime import datetime, timedelta\n",
    "\n",
    "alerts = {}\n",
    "\n",
    "timestamps = {}\n",
    "time_format = \"%H:%M:%S\"\n",
    "\n",
    "def parse_time(time_str):\n",
    "    return datetime.strptime(time_str, time_format)\n",
    "\n",
    "def is_within_timeframe(time1, time2, seconds):\n",
    "    return abs((time1 - time2).total_seconds()) <= seconds\n",
    "\n",
    "def add_alert(alert):\n",
    "    alert_id = alert[\"id\"]\n",
    "    timestamp = parse_time(alert[\"timestamp\"])\n",
    "    threat_level = alert[\"threat_level\"]\n",
    "\n",
    "    if alert_id in alerts:\n",
    "        existing_alert = alerts[alert_id]\n",
    "        existing_timestamp = timestamps[alert_id]\n",
    "\n",
    "        if is_within_timeframe(timestamp, existing_timestamp, 30):\n",
    "            if threat_level > existing_alert[\"threat_level\"]:\n",
    "                alerts[alert_id] = alert\n",
    "                timestamps[alert_id] = timestamp\n",
    "        elif timestamp > existing_timestamp + timedelta(minutes=5):\n",
    "            alerts[alert_id] = alert\n",
    "            timestamps[alert_id] = timestamp\n",
    "    else:\n",
    "        alerts[alert_id] = alert\n",
    "        timestamps[alert_id] = timestamp\n",
    "\n",
    "    evict_old_alerts()\n",
    "\n",
    "def evict_old_alerts():\n",
    "    current_time = max(timestamps.values(), default=datetime.min)\n",
    "    evict_before = current_time - timedelta(minutes=5)\n",
    "    to_evict = [alert_id for alert_id, timestamp in timestamps.items() if timestamp < evict_before]\n",
    "\n",
    "    for alert_id in to_evict:\n",
    "        del alerts[alert_id]\n",
    "        del timestamps[alert_id]\n",
    "\n",
    "def get_stored_alerts():\n",
    "    return list(alerts.values())\n",
    "\n",
    "incoming_alerts = [\n",
    "    {\"id\": \"A123\", \"timestamp\": \"00:00:10\", \"threat_level\": 3},\n",
    "    {\"id\": \"A123\", \"timestamp\": \"00:00:15\", \"threat_level\": 3},\n",
    "    {\"id\": \"B456\", \"timestamp\": \"00:00:20\", \"threat_level\": 2},\n",
    "    {\"id\": \"A123\", \"timestamp\": \"00:00:30\", \"threat_level\": 5},\n",
    "    {\"id\": \"B456\", \"timestamp\": \"00:05:05\", \"threat_level\": 2}\n",
    "]\n",
    "\n",
    "for alert in incoming_alerts:\n",
    "    add_alert(alert)\n",
    "\n",
    "result = get_stored_alerts()\n",
    "print(\"Stored alerts:\", result)\n"
   ]
  },
  {
   "cell_type": "code",
   "execution_count": null,
   "id": "1eb8a85d",
   "metadata": {},
   "outputs": [],
   "source": []
  }
 ],
 "metadata": {
  "kernelspec": {
   "display_name": "Python 3 (ipykernel)",
   "language": "python",
   "name": "python3"
  },
  "language_info": {
   "codemirror_mode": {
    "name": "ipython",
    "version": 3
   },
   "file_extension": ".py",
   "mimetype": "text/x-python",
   "name": "python",
   "nbconvert_exporter": "python",
   "pygments_lexer": "ipython3",
   "version": "3.9.13"
  }
 },
 "nbformat": 4,
 "nbformat_minor": 5
}
