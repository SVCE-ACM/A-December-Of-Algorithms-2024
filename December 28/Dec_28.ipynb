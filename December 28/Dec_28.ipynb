{
 "cells": [
  {
   "cell_type": "code",
   "execution_count": 1,
   "metadata": {},
   "outputs": [
    {
     "name": "stdout",
     "output_type": "stream",
     "text": [
      "Can organize books: False\n"
     ]
    }
   ],
   "source": [
    "from collections import Counter\n",
    "def canOrganizeBooks(books, shelfSize):\n",
    "    if len(books) % shelfSize != 0:\n",
    "        return False \n",
    "    book_counts = Counter(books)\n",
    "    sorted_books = sorted(book_counts.keys())\n",
    "    for book in sorted_books:\n",
    "        while book_counts[book] > 0: \n",
    "            for i in range(shelfSize):\n",
    "                if book_counts[book + i] <= 0:  \n",
    "                    return False\n",
    "                book_counts[book + i] -= 1 \n",
    "    \n",
    "    return True\n",
    "\n",
    "books = [1, 2, 3, 4, 5]\n",
    "shelfSize = 4\n",
    "print(\"Can organize books:\", canOrganizeBooks(books, shelfSize))\n"
   ]
  }
 ],
 "metadata": {
  "kernelspec": {
   "display_name": "Python 3",
   "language": "python",
   "name": "python3"
  },
  "language_info": {
   "codemirror_mode": {
    "name": "ipython",
    "version": 3
   },
   "file_extension": ".py",
   "mimetype": "text/x-python",
   "name": "python",
   "nbconvert_exporter": "python",
   "pygments_lexer": "ipython3",
   "version": "3.9.6"
  },
  "orig_nbformat": 4
 },
 "nbformat": 4,
 "nbformat_minor": 2
}
