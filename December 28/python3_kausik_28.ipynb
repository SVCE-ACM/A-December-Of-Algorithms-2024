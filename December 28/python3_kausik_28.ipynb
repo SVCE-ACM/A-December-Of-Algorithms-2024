{
 "cells": [
  {
   "cell_type": "code",
   "execution_count": 1,
   "id": "2d427954",
   "metadata": {},
   "outputs": [
    {
     "name": "stdout",
     "output_type": "stream",
     "text": [
      "True\n"
     ]
    }
   ],
   "source": [
    "from collections import Counter\n",
    "\n",
    "def can_organize_books(books, shelfSize):\n",
    "    if len(books) % shelfSize != 0:\n",
    "        return False\n",
    "    \n",
    "    book_count = Counter(books)\n",
    "    sorted_books = sorted(book_count.keys())\n",
    "    \n",
    "    for book in sorted_books:\n",
    "        while book_count[book] > 0:\n",
    "            for i in range(shelfSize):\n",
    "                if book_count[book + i] <= 0:\n",
    "                    return False\n",
    "                book_count[book + i] -= 1\n",
    "    return True\n",
    "\n",
    "books1 = [1, 2, 3, 6, 2, 3, 4, 7, 8]\n",
    "shelfSize1 = 3\n",
    "print(can_organize_books(books1, shelfSize1)) "
   ]
  },
  {
   "cell_type": "code",
   "execution_count": null,
   "id": "120611c5",
   "metadata": {},
   "outputs": [],
   "source": []
  }
 ],
 "metadata": {
  "kernelspec": {
   "display_name": "Python 3 (ipykernel)",
   "language": "python",
   "name": "python3"
  },
  "language_info": {
   "codemirror_mode": {
    "name": "ipython",
    "version": 3
   },
   "file_extension": ".py",
   "mimetype": "text/x-python",
   "name": "python",
   "nbconvert_exporter": "python",
   "pygments_lexer": "ipython3",
   "version": "3.9.13"
  }
 },
 "nbformat": 4,
 "nbformat_minor": 5
}
