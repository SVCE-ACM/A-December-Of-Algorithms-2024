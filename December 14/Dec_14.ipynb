{
 "cells": [
  {
   "cell_type": "code",
   "execution_count": 4,
   "metadata": {},
   "outputs": [
    {
     "name": "stdout",
     "output_type": "stream",
     "text": [
      "Invalid input\n"
     ]
    }
   ],
   "source": [
    "def can_distribute(N, K, D, A):\n",
    "    subject_counts = Counter(A)\n",
    "    distinct_subjects = len(subject_counts)\n",
    "    if distinct_subjects < 2 * K:\n",
    "        return \"NO\"  \n",
    "    team_size_lower_bound = (N - D) // 2\n",
    "    team_size_upper_bound = (N + D) // 2\n",
    "    if team_size_lower_bound <= N // 2 <= team_size_upper_bound:\n",
    "        return \"YES\"\n",
    "    return \"NO\"\n",
    "try:\n",
    "    T = int(input().strip()) \n",
    "    for _ in range(T):\n",
    "        N, K, D = map(int, input().split())\n",
    "        A = list(map(int, input().split()))\n",
    "        print(can_distribute(N, K, D, A))\n",
    "except ValueError:\n",
    "    print(\"Invalid input\")\n"
   ]
  }
 ],
 "metadata": {
  "kernelspec": {
   "display_name": "Python 3",
   "language": "python",
   "name": "python3"
  },
  "language_info": {
   "codemirror_mode": {
    "name": "ipython",
    "version": 3
   },
   "file_extension": ".py",
   "mimetype": "text/x-python",
   "name": "python",
   "nbconvert_exporter": "python",
   "pygments_lexer": "ipython3",
   "version": "3.9.6"
  },
  "orig_nbformat": 4
 },
 "nbformat": 4,
 "nbformat_minor": 2
}
