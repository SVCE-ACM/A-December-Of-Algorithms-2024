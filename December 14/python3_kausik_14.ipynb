{
 "cells": [
  {
   "cell_type": "code",
   "execution_count": 2,
   "id": "ef0629b7",
   "metadata": {},
   "outputs": [
    {
     "name": "stdout",
     "output_type": "stream",
     "text": [
      "YES\n"
     ]
    }
   ],
   "source": [
    "def can_divide_students(t, test_cases):\n",
    "    results = []\n",
    "    \n",
    "    for case in test_cases:\n",
    "        n, k, d = case[\"nkd\"]\n",
    "        a = case[\"subjects\"]\n",
    "\n",
    "        # Count frequencies of each subject\n",
    "        frequency = {}\n",
    "        for subject in a:\n",
    "            if subject not in frequency:\n",
    "                frequency[subject] = 0\n",
    "            frequency[subject] += 1\n",
    "\n",
    "        distinct_subjects = len(frequency)\n",
    "        if distinct_subjects < k:\n",
    "            results.append(\"NO\")\n",
    "            continue\n",
    "\n",
    "        team1, team2 = [], []\n",
    "        team1_subjects, team2_subjects = set(), set()\n",
    "        \n",
    "        for subject, count in frequency.items():\n",
    "            if len(team1_subjects) < k:\n",
    "                team1.extend([subject] * count)\n",
    "                team1_subjects.add(subject)\n",
    "            elif len(team2_subjects) < k:\n",
    "                team2.extend([subject] * count)\n",
    "                team2_subjects.add(subject)\n",
    "            else:\n",
    "                \n",
    "                results.append(\"NO\")\n",
    "                break\n",
    "        else:\n",
    "           \n",
    "            if abs(len(team1) - len(team2)) <= d:\n",
    "                results.append(\"YES\")\n",
    "            else:\n",
    "                results.append(\"NO\")\n",
    "    \n",
    "    return results\n",
    "\n",
    "\n",
    "\n",
    "t = 1\n",
    "test_cases = [\n",
    "    {\"nkd\": (6, 2, 2), \"subjects\": [1, 2, 2, 3, 4, 4]},\n",
    "]\n",
    "\n",
    "\n",
    "output = can_divide_students(t, test_cases)\n",
    "\n",
    "\n",
    "for res in output:\n",
    "    print(res)\n"
   ]
  },
  {
   "cell_type": "code",
   "execution_count": null,
   "id": "8a2024f1",
   "metadata": {},
   "outputs": [],
   "source": []
  }
 ],
 "metadata": {
  "kernelspec": {
   "display_name": "Python 3 (ipykernel)",
   "language": "python",
   "name": "python3"
  },
  "language_info": {
   "codemirror_mode": {
    "name": "ipython",
    "version": 3
   },
   "file_extension": ".py",
   "mimetype": "text/x-python",
   "name": "python",
   "nbconvert_exporter": "python",
   "pygments_lexer": "ipython3",
   "version": "3.9.13"
  }
 },
 "nbformat": 4,
 "nbformat_minor": 5
}
