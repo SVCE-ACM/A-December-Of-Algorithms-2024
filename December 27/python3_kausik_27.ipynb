{
 "cells": [
  {
   "cell_type": "code",
   "execution_count": 2,
   "id": "ad820230",
   "metadata": {},
   "outputs": [
    {
     "name": "stdout",
     "output_type": "stream",
     "text": [
      "Total units of trapped water: 6\n"
     ]
    }
   ],
   "source": [
    "def trap_water(heights):\n",
    "    if not heights:\n",
    "        return 0\n",
    "\n",
    "    left, right = 0, len(heights) - 1\n",
    "    left_max, right_max = heights[left], heights[right]\n",
    "    trapped_water = 0\n",
    "\n",
    "    while left < right:\n",
    "        if heights[left] < heights[right]:\n",
    "            if heights[left] >= left_max:\n",
    "                left_max = heights[left]\n",
    "            else:\n",
    "                trapped_water += left_max - heights[left]\n",
    "            left += 1\n",
    "        else:\n",
    "            if heights[right] >= right_max:\n",
    "                right_max = heights[right]\n",
    "            else:\n",
    "                trapped_water += right_max - heights[right]\n",
    "            right -= 1\n",
    "\n",
    "    return trapped_water\n",
    "\n",
    "\n",
    "heights = [0, 1, 0, 2, 1, 0, 1, 3, 2, 1, 2, 1]\n",
    "result = trap_water(heights)\n",
    "print(f\"Total units of trapped water: {result}\")\n"
   ]
  },
  {
   "cell_type": "code",
   "execution_count": null,
   "id": "04bb2133",
   "metadata": {},
   "outputs": [],
   "source": []
  }
 ],
 "metadata": {
  "kernelspec": {
   "display_name": "Python 3 (ipykernel)",
   "language": "python",
   "name": "python3"
  },
  "language_info": {
   "codemirror_mode": {
    "name": "ipython",
    "version": 3
   },
   "file_extension": ".py",
   "mimetype": "text/x-python",
   "name": "python",
   "nbconvert_exporter": "python",
   "pygments_lexer": "ipython3",
   "version": "3.9.13"
  }
 },
 "nbformat": 4,
 "nbformat_minor": 5
}
