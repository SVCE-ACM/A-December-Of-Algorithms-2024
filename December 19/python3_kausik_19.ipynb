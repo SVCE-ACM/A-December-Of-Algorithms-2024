{
 "cells": [
  {
   "cell_type": "code",
   "execution_count": 1,
   "id": "4d9c468b",
   "metadata": {},
   "outputs": [
    {
     "name": "stdout",
     "output_type": "stream",
     "text": [
      "Move disk 1 from A to B\n",
      "Move disk 2 from A to C\n",
      "Move disk 1 from B to C\n",
      "Move disk 3 from A to B\n",
      "Move disk 1 from C to A\n",
      "Move disk 2 from C to B\n",
      "Move disk 1 from A to B\n",
      "Move disk 4 from A to C\n",
      "Move disk 1 from B to C\n",
      "Move disk 2 from B to A\n",
      "Move disk 1 from C to A\n",
      "Move disk 3 from B to C\n",
      "Move disk 1 from A to B\n",
      "Move disk 2 from A to C\n",
      "Move disk 1 from B to C\n"
     ]
    }
   ],
   "source": [
    "def hanoi(n, source, target, auxiliary, moves):\n",
    "    if n == 1:\n",
    "        moves.append(f\"Move disk 1 from {source} to {target}\")\n",
    "        return\n",
    "    hanoi(n-1, source, auxiliary, target, moves)\n",
    "    moves.append(f\"Move disk {n} from {source} to {target}\")\n",
    "    hanoi(n-1, auxiliary, target, source, moves)\n",
    "\n",
    "def tower_of_hanoi(n):\n",
    "    moves = []\n",
    "    hanoi(n, 'A', 'C', 'B', moves)\n",
    "    return moves\n",
    "\n",
    "\n",
    "moves = tower_of_hanoi(4)\n",
    "for move in moves:\n",
    "    print(move)\n"
   ]
  },
  {
   "cell_type": "code",
   "execution_count": null,
   "id": "25750989",
   "metadata": {},
   "outputs": [],
   "source": []
  }
 ],
 "metadata": {
  "kernelspec": {
   "display_name": "Python 3 (ipykernel)",
   "language": "python",
   "name": "python3"
  },
  "language_info": {
   "codemirror_mode": {
    "name": "ipython",
    "version": 3
   },
   "file_extension": ".py",
   "mimetype": "text/x-python",
   "name": "python",
   "nbconvert_exporter": "python",
   "pygments_lexer": "ipython3",
   "version": "3.9.13"
  }
 },
 "nbformat": 4,
 "nbformat_minor": 5
}
