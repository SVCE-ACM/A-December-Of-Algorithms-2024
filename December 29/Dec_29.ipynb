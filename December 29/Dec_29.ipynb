{
 "cells": [
  {
   "cell_type": "code",
   "execution_count": 3,
   "metadata": {},
   "outputs": [
    {
     "name": "stdout",
     "output_type": "stream",
     "text": [
      "Minimum Total Weight: 0\n"
     ]
    }
   ],
   "source": [
    "import heapq\n",
    "from collections import defaultdict\n",
    "\n",
    "def min_total_weight(N, M, P, portals):\n",
    "    directions = [(0, 1), (1, 0), (0, -1), (-1, 0)]\n",
    "    pq = []\n",
    "    dist = [[float('inf')] * M for _ in range(N)]\n",
    "    dist[0][0] = 0\n",
    "    heapq.heappush(pq, (0, 0, 0))\n",
    "    portal_map = defaultdict(list)\n",
    "    for x1, y1, x2, y2, w in portals:\n",
    "        portal_map[(x1 - 1, y1 - 1)].append((x2 - 1, y2 - 1, w))\n",
    "        portal_map[(x2 - 1, y2 - 1)].append((x1 - 1, y1 - 1, w))\n",
    "    while pq:\n",
    "        curr_cost, x, y = heapq.heappop(pq)\n",
    "        if curr_cost > dist[x][y]:\n",
    "            continue\n",
    "        if (x, y) == (N - 1, M - 1):\n",
    "            return curr_cost\n",
    "        for dx, dy in directions:\n",
    "            nx, ny = x + dx, y + dy\n",
    "            if 0 <= nx < N and 0 <= ny < M:\n",
    "                if curr_cost < dist[nx][ny]:\n",
    "                    dist[nx][ny] = curr_cost\n",
    "                    heapq.heappush(pq, (curr_cost, nx, ny))\n",
    "        if (x, y) in portal_map:\n",
    "            for nx, ny, w in portal_map[(x, y)]:\n",
    "                if curr_cost + w < dist[nx][ny]:\n",
    "                    dist[nx][ny] = curr_cost + w\n",
    "                    heapq.heappush(pq, (curr_cost + w, nx, ny))\n",
    "            del portal_map[(x, y)]\n",
    "    \n",
    "    return -1 \n",
    "N, M = 4, 4\n",
    "P = 3\n",
    "portals = [\n",
    "    (1, 1, 2, 3, 5),  \n",
    "    (2, 3, 4, 4, 2),  \n",
    "    (1, 2, 4, 1, 8)   \n",
    "]\n",
    "\n",
    "result = min_total_weight(N, M, P, portals)\n",
    "print(\"Minimum Total Weight:\", result)\n"
   ]
  }
 ],
 "metadata": {
  "kernelspec": {
   "display_name": "Python 3",
   "language": "python",
   "name": "python3"
  },
  "language_info": {
   "codemirror_mode": {
    "name": "ipython",
    "version": 3
   },
   "file_extension": ".py",
   "mimetype": "text/x-python",
   "name": "python",
   "nbconvert_exporter": "python",
   "pygments_lexer": "ipython3",
   "version": "3.9.6"
  },
  "orig_nbformat": 4
 },
 "nbformat": 4,
 "nbformat_minor": 2
}
