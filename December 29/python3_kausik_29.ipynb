{
 "cells": [
  {
   "cell_type": "code",
   "execution_count": 8,
   "id": "41f87aaa",
   "metadata": {},
   "outputs": [
    {
     "name": "stdout",
     "output_type": "stream",
     "text": [
      "3 3\n",
      "2\n",
      "1 1 3 3 4\n",
      "1 2 2 3 7\n",
      "4\n"
     ]
    }
   ],
   "source": [
    "import heapq\n",
    "\n",
    "def dijkstra(N, M, portals):\n",
    "    directions = [(0, 1), (1, 0), (0, -1), (-1, 0)]\n",
    "    start = (0, 0)\n",
    "    end = (N - 1, M - 1)\n",
    "    distance = {(i, j): float('inf') for i in range(N) for j in range(M)}\n",
    "    distance[start] = 0\n",
    "    pq = [(0, start)]\n",
    "    visited = set()\n",
    "    \n",
    "    while pq:\n",
    "        curr_dist, (x, y) = heapq.heappop(pq)\n",
    "        \n",
    "        if (x, y) in visited:\n",
    "            continue\n",
    "        visited.add((x, y))\n",
    "        \n",
    "        if (x, y) == end:\n",
    "            return curr_dist\n",
    "        \n",
    "        for dx, dy in directions:\n",
    "            nx, ny = x + dx, y + dy\n",
    "            if 0 <= nx < N and 0 <= ny < M:\n",
    "                new_dist = curr_dist + 1\n",
    "                if new_dist < distance[(nx, ny)]:\n",
    "                    distance[(nx, ny)] = new_dist\n",
    "                    heapq.heappush(pq, (new_dist, (nx, ny)))\n",
    "        \n",
    "        for (x1, y1, x2, y2, w) in portals:\n",
    "            if (x, y) == (x1 - 1, y1 - 1):\n",
    "                nx, ny = x2 - 1, y2 - 1\n",
    "            elif (x, y) == (x2 - 1, y2 - 1):\n",
    "                nx, ny = x1 - 1, y1 - 1\n",
    "            else:\n",
    "                continue\n",
    "            \n",
    "            new_dist = curr_dist + w\n",
    "            if 0 <= nx < N and 0 <= ny < M and new_dist < distance[(nx, ny)]:\n",
    "                distance[(nx, ny)] = new_dist\n",
    "                heapq.heappush(pq, (new_dist, (nx, ny)))\n",
    "    \n",
    "    return -1\n",
    "\n",
    "N, M = map(int, input().split())\n",
    "P = int(input())\n",
    "portals = [tuple(map(int, input().split())) for i in range(P)]\n",
    "\n",
    "result = dijkstra(N, M, portals)\n",
    "print(result)\n"
   ]
  },
  {
   "cell_type": "code",
   "execution_count": null,
   "id": "f5165b39",
   "metadata": {},
   "outputs": [],
   "source": []
  }
 ],
 "metadata": {
  "kernelspec": {
   "display_name": "Python 3 (ipykernel)",
   "language": "python",
   "name": "python3"
  },
  "language_info": {
   "codemirror_mode": {
    "name": "ipython",
    "version": 3
   },
   "file_extension": ".py",
   "mimetype": "text/x-python",
   "name": "python",
   "nbconvert_exporter": "python",
   "pygments_lexer": "ipython3",
   "version": "3.9.13"
  }
 },
 "nbformat": 4,
 "nbformat_minor": 5
}
