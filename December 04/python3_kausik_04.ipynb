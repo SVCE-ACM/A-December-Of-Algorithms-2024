{
 "cells": [
  {
   "cell_type": "code",
   "execution_count": 4,
   "id": "b6496566",
   "metadata": {},
   "outputs": [
    {
     "name": "stdout",
     "output_type": "stream",
     "text": [
      "Enter no of months:10\n",
      "The plants grown in 10 months are:55\n"
     ]
    }
   ],
   "source": [
    "month=int(input(\"Enter no of months:\"))\n",
    "if month==1 or month==2:\n",
    "    print(f\"The plants grown in {month} month(s) is:1\")\n",
    "else:\n",
    "    m1=1\n",
    "    m2=1\n",
    "    for i in range(3,month+1):\n",
    "        m3=m1+m2\n",
    "        m1=m2\n",
    "        m2=m3\n",
    "    print(f\"The plants grown in {month} months are:{m3}\")"
   ]
  },
  {
   "cell_type": "code",
   "execution_count": null,
   "id": "86235ad5",
   "metadata": {},
   "outputs": [],
   "source": []
  },
  {
   "cell_type": "code",
   "execution_count": null,
   "id": "66c6ba29",
   "metadata": {},
   "outputs": [],
   "source": []
  }
 ],
 "metadata": {
  "kernelspec": {
   "display_name": "Python 3 (ipykernel)",
   "language": "python",
   "name": "python3"
  },
  "language_info": {
   "codemirror_mode": {
    "name": "ipython",
    "version": 3
   },
   "file_extension": ".py",
   "mimetype": "text/x-python",
   "name": "python",
   "nbconvert_exporter": "python",
   "pygments_lexer": "ipython3",
   "version": "3.9.13"
  }
 },
 "nbformat": 4,
 "nbformat_minor": 5
}
