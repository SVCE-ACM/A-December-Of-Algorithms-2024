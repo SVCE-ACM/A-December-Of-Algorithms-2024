{
 "cells": [
  {
   "cell_type": "code",
   "execution_count": 1,
   "metadata": {},
   "outputs": [
    {
     "name": "stdout",
     "output_type": "stream",
     "text": [
      "[1]\n",
      "[1, 1]\n",
      "[1, 2, 1]\n",
      "[1, 3, 3, 1]\n",
      "[1, 4, 6, 4, 1]\n"
     ]
    }
   ],
   "source": [
    "def generate_magical_tower(N):\n",
    "    tower = [[1]]\n",
    "    for i in range(1, N):\n",
    "        floor = [1]\n",
    "        for j in range(1, i):\n",
    "            floor.append(tower[i-1][j-1] + tower[i-1][j])\n",
    "        floor.append(1)\n",
    "        tower.append(floor)\n",
    "    return tower\n",
    "\n",
    "N = 5\n",
    "magical_tower = generate_magical_tower(N)\n",
    "\n",
    "for floor in magical_tower:\n",
    "    print(floor)"
   ]
  }
 ],
 "metadata": {
  "kernelspec": {
   "display_name": "Python 3",
   "language": "python",
   "name": "python3"
  },
  "language_info": {
   "codemirror_mode": {
    "name": "ipython",
    "version": 3
   },
   "file_extension": ".py",
   "mimetype": "text/x-python",
   "name": "python",
   "nbconvert_exporter": "python",
   "pygments_lexer": "ipython3",
   "version": "3.9.6"
  },
  "orig_nbformat": 4
 },
 "nbformat": 4,
 "nbformat_minor": 2
}
