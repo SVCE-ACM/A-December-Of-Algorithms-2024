{
 "cells": [
  {
   "cell_type": "code",
   "execution_count": 5,
   "id": "1e1b0ea8",
   "metadata": {},
   "outputs": [
    {
     "name": "stdout",
     "output_type": "stream",
     "text": [
      "Enter no of customers returned:8\n",
      "Enter 8 frquencies:\n",
      "1\n",
      "4\n",
      "2\n",
      "1\n",
      "5\n",
      "1\n",
      "8\n",
      "1\n",
      "Returns= [1, 4, 2, 1, 5, 1, 8, 1]\n",
      "The number of customers returned exactly one book is 4\n"
     ]
    }
   ],
   "source": [
    "returns=[]\n",
    "n=int(input(\"Enter no of customers returned:\"))\n",
    "print(f\"Enter {n} frquencies:\")\n",
    "for i in range(n):\n",
    "    returns.append(int(input()))\n",
    "count=0\n",
    "for i in returns:\n",
    "      if i==1:\n",
    "        count+=1\n",
    "print(\"Returns=\",returns)\n",
    "print(\"The number of customers returned exactly one book is\",count)\n",
    "      \n",
    "\n"
   ]
  },
  {
   "cell_type": "code",
   "execution_count": null,
   "id": "acde7b62",
   "metadata": {},
   "outputs": [],
   "source": []
  }
 ],
 "metadata": {
  "kernelspec": {
   "display_name": "Python 3 (ipykernel)",
   "language": "python",
   "name": "python3"
  },
  "language_info": {
   "codemirror_mode": {
    "name": "ipython",
    "version": 3
   },
   "file_extension": ".py",
   "mimetype": "text/x-python",
   "name": "python",
   "nbconvert_exporter": "python",
   "pygments_lexer": "ipython3",
   "version": "3.9.13"
  }
 },
 "nbformat": 4,
 "nbformat_minor": 5
}
