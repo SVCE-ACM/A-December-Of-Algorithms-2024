{
 "cells": [
  {
   "cell_type": "code",
   "execution_count": 1,
   "id": "947fd13b",
   "metadata": {},
   "outputs": [
    {
     "name": "stdout",
     "output_type": "stream",
     "text": [
      "Enter a list of unique integers separated by spaces: 5 3 4 2 1\n",
      "Minimum number of swaps required: 3\n"
     ]
    }
   ],
   "source": [
    "def min_swaps_to_sort(arr):\n",
    "    n = len(arr)\n",
    "    sorted_arr = sorted(arr)\n",
    "    index_map = {value: index for index, value in enumerate(arr)}\n",
    "    visited = [False] * n\n",
    "    swaps = 0\n",
    "\n",
    "    for i in range(n):\n",
    "        if visited[i] or sorted_arr[i] == arr[i]:\n",
    "            continue\n",
    "\n",
    "        cycle_size = 0\n",
    "        x = i\n",
    "        while not visited[x]:\n",
    "            visited[x] = True\n",
    "            x = index_map[sorted_arr[x]]\n",
    "            cycle_size += 1\n",
    "\n",
    "        if cycle_size > 0:\n",
    "            swaps += (cycle_size - 1)\n",
    "    \n",
    "    return swaps\n",
    "\n",
    "user_input = input(\"Enter a list of unique integers separated by spaces: \")\n",
    "arr = list(map(int, user_input.split()))\n",
    "result = min_swaps_to_sort(arr)\n",
    "print(f\"Minimum number of swaps required: {result}\")\n"
   ]
  },
  {
   "cell_type": "code",
   "execution_count": null,
   "id": "23bb4c7f",
   "metadata": {},
   "outputs": [],
   "source": []
  }
 ],
 "metadata": {
  "kernelspec": {
   "display_name": "Python 3 (ipykernel)",
   "language": "python",
   "name": "python3"
  },
  "language_info": {
   "codemirror_mode": {
    "name": "ipython",
    "version": 3
   },
   "file_extension": ".py",
   "mimetype": "text/x-python",
   "name": "python",
   "nbconvert_exporter": "python",
   "pygments_lexer": "ipython3",
   "version": "3.9.13"
  }
 },
 "nbformat": 4,
 "nbformat_minor": 5
}
