{
 "cells": [
  {
   "cell_type": "code",
   "execution_count": 15,
   "metadata": {},
   "outputs": [
    {
     "name": "stdout",
     "output_type": "stream",
     "text": [
      "Sorted array: [3, 1, 2, 4, 5]\n",
      "Total swap cost: 3\n"
     ]
    }
   ],
   "source": [
    "def swap(arr):\n",
    "    cost = 0\n",
    "    for i in range(len(arr)-1):\n",
    "        if arr[i] > arr[i+1]:\n",
    "            temp = arr[i]\n",
    "            arr[i] = arr[i+1]\n",
    "            arr[i+1] = temp\n",
    "            cost += 1 \n",
    "    return cost\n",
    "arr = [4, 3, 1, 2, 5]\n",
    "cost = swap(arr)\n",
    "print(\"Sorted array:\", arr)\n",
    "print(\"Total swap cost:\", cost)\n"
   ]
  }
 ],
 "metadata": {
  "kernelspec": {
   "display_name": "Python 3",
   "language": "python",
   "name": "python3"
  },
  "language_info": {
   "codemirror_mode": {
    "name": "ipython",
    "version": 3
   },
   "file_extension": ".py",
   "mimetype": "text/x-python",
   "name": "python",
   "nbconvert_exporter": "python",
   "pygments_lexer": "ipython3",
   "version": "3.9.6"
  },
  "orig_nbformat": 4
 },
 "nbformat": 4,
 "nbformat_minor": 2
}
