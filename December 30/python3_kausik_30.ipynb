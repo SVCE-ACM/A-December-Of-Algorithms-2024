{
 "cells": [
  {
   "cell_type": "code",
   "execution_count": 1,
   "id": "f6ac427b",
   "metadata": {},
   "outputs": [
    {
     "name": "stdout",
     "output_type": "stream",
     "text": [
      "2\n"
     ]
    }
   ],
   "source": [
    "def min_moves(k, n):\n",
    "    dp = [[0] * (n + 1) for _ in range(k + 1)]\n",
    "    for i in range(1, k + 1):\n",
    "        for j in range(1, n + 1):\n",
    "            dp[i][j] = j\n",
    "\n",
    "    for i in range(1, k + 1):\n",
    "        for j in range(1, n + 1):\n",
    "            for x in range(1, j + 1):\n",
    "                dp[i][j] = min(dp[i][j], 1 + max(dp[i - 1][x - 1], dp[i][j - x]))\n",
    "\n",
    "    return dp[k][n]\n",
    "\n",
    "k, n = 2, 6\n",
    "print(min_moves(k, n))\n"
   ]
  },
  {
   "cell_type": "code",
   "execution_count": null,
   "id": "289542b4",
   "metadata": {},
   "outputs": [],
   "source": []
  }
 ],
 "metadata": {
  "kernelspec": {
   "display_name": "Python 3 (ipykernel)",
   "language": "python",
   "name": "python3"
  },
  "language_info": {
   "codemirror_mode": {
    "name": "ipython",
    "version": 3
   },
   "file_extension": ".py",
   "mimetype": "text/x-python",
   "name": "python",
   "nbconvert_exporter": "python",
   "pygments_lexer": "ipython3",
   "version": "3.9.13"
  }
 },
 "nbformat": 4,
 "nbformat_minor": 5
}
