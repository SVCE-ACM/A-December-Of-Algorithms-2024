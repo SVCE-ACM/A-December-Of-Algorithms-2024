{
 "cells": [
  {
   "cell_type": "code",
   "execution_count": 2,
   "metadata": {},
   "outputs": [
    {
     "name": "stdout",
     "output_type": "stream",
     "text": [
      "Minimum moves required = 3\n"
     ]
    }
   ],
   "source": [
    "def min_moves(k, n):\n",
    "    dp = [[0] * (n + 1) for _ in range(k + 1)]\n",
    "    for i in range(n + 1):\n",
    "        dp[1][i] = i \n",
    "    for eggs in range(2, k + 1):\n",
    "        for floors in range(1, n + 1):\n",
    "            dp[eggs][floors] = float('inf')\n",
    "            low, high = 1, floors\n",
    "            while low <= high:\n",
    "                mid = (low + high) // 2\n",
    "                break_case = dp[eggs-1][mid-1] \n",
    "                no_break_case = dp[eggs][floors-mid]  \n",
    "                \n",
    "                worst_case = 1 + max(break_case, no_break_case)\n",
    "                dp[eggs][floors] = min(dp[eggs][floors], worst_case)\n",
    "                \n",
    "                # Move binary search bounds\n",
    "                if break_case > no_break_case:\n",
    "                    high = mid - 1\n",
    "                else:\n",
    "                    low = mid + 1\n",
    "    \n",
    "    return dp[k][n]\n",
    "k = 2  \n",
    "n = 6 \n",
    "result = min_moves(k, n)\n",
    "print(\"Minimum moves required =\", result)\n"
   ]
  }
 ],
 "metadata": {
  "kernelspec": {
   "display_name": "Python 3",
   "language": "python",
   "name": "python3"
  },
  "language_info": {
   "codemirror_mode": {
    "name": "ipython",
    "version": 3
   },
   "file_extension": ".py",
   "mimetype": "text/x-python",
   "name": "python",
   "nbconvert_exporter": "python",
   "pygments_lexer": "ipython3",
   "version": "3.9.6"
  },
  "orig_nbformat": 4
 },
 "nbformat": 4,
 "nbformat_minor": 2
}
