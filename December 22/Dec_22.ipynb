{
 "cells": [
  {
   "cell_type": "code",
   "execution_count": 2,
   "metadata": {},
   "outputs": [
    {
     "name": "stdout",
     "output_type": "stream",
     "text": [
      "2\n",
      "1\n"
     ]
    }
   ],
   "source": [
    "from math import sqrt\n",
    "\n",
    "def max_buildings_affected(buildings):\n",
    "    def can_affect(building1, building2):\n",
    "        x1, y1, r1 = building1\n",
    "        x2, y2, _ = building2\n",
    "        return sqrt((x1 - x2) ** 2 + (y1 - y2) ** 2) <= r1\n",
    "\n",
    "    # Build the graph\n",
    "    n = len(buildings)\n",
    "    graph = {i: [] for i in range(n)}\n",
    "    for i in range(n):\n",
    "        for j in range(n):\n",
    "            if i != j and can_affect(buildings[i], buildings[j]):\n",
    "                graph[i].append(j)\n",
    "\n",
    "    # BFS to count affected buildings\n",
    "    def bfs(start):\n",
    "        visited = set()\n",
    "        queue = [start]\n",
    "        while queue:\n",
    "            node = queue.pop(0)\n",
    "            if node not in visited:\n",
    "                visited.add(node)\n",
    "                queue.extend(graph[node])\n",
    "        return len(visited)\n",
    "\n",
    "    # Find the maximum number of affected buildings\n",
    "    max_affected = 0\n",
    "    for i in range(n):\n",
    "        max_affected = max(max_affected, bfs(i))\n",
    "    \n",
    "    return max_affected\n",
    "\n",
    "# Example Input\n",
    "buildings = [[2, 1, 3], [6, 1, 4]]\n",
    "b=[[1,1,5],[10,10,5]]\n",
    "\n",
    "# Output\n",
    "print(max_buildings_affected(buildings))\n",
    "print(max_buildings_affected(b))"
   ]
  }
 ],
 "metadata": {
  "kernelspec": {
   "display_name": "Python 3",
   "language": "python",
   "name": "python3"
  },
  "language_info": {
   "codemirror_mode": {
    "name": "ipython",
    "version": 3
   },
   "file_extension": ".py",
   "mimetype": "text/x-python",
   "name": "python",
   "nbconvert_exporter": "python",
   "pygments_lexer": "ipython3",
   "version": "3.9.6"
  },
  "orig_nbformat": 4
 },
 "nbformat": 4,
 "nbformat_minor": 2
}
