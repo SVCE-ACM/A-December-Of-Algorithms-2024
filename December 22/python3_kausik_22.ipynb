{
 "cells": [
  {
   "cell_type": "code",
   "execution_count": 1,
   "id": "43d804e7",
   "metadata": {},
   "outputs": [
    {
     "name": "stdout",
     "output_type": "stream",
     "text": [
      "2\n"
     ]
    }
   ],
   "source": [
    "def max_affected_buildings(buildings):\n",
    "    from collections import defaultdict, deque\n",
    "\n",
    "    def is_within_radius(b1, b2):\n",
    "        x1, y1, r1 = b1\n",
    "        x2, y2, r2 = b2\n",
    "        return (x2 - x1) ** 2 + (y2 - y1) ** 2 <= r1 ** 2\n",
    "\n",
    "    def bfs(start, adj_list, n):\n",
    "        visited = [False] * n\n",
    "        queue = deque([start])\n",
    "        visited[start] = True\n",
    "        count = 0\n",
    "        \n",
    "        while queue:\n",
    "            current = queue.popleft()\n",
    "            count += 1\n",
    "            for neighbor in adj_list[current]:\n",
    "                if not visited[neighbor]:\n",
    "                    visited[neighbor] = True\n",
    "                    queue.append(neighbor)\n",
    "        \n",
    "        return count\n",
    "\n",
    "    n = len(buildings)\n",
    "    adj_list = defaultdict(list)\n",
    "\n",
    "    for i in range(n):\n",
    "        for j in range(n):\n",
    "            if i != j and is_within_radius(buildings[i], buildings[j]):\n",
    "                adj_list[i].append(j)\n",
    "    \n",
    "    max_count = 0\n",
    "    for i in range(n):\n",
    "        max_count = max(max_count, bfs(i, adj_list, n))\n",
    "    \n",
    "    return max_count\n",
    "\n",
    "\n",
    "buildings = [[2, 1, 3], [6, 1, 4]]\n",
    "result = max_affected_buildings(buildings)\n",
    "print(result) \n"
   ]
  },
  {
   "cell_type": "code",
   "execution_count": null,
   "id": "abf7d398",
   "metadata": {},
   "outputs": [],
   "source": []
  }
 ],
 "metadata": {
  "kernelspec": {
   "display_name": "Python 3 (ipykernel)",
   "language": "python",
   "name": "python3"
  },
  "language_info": {
   "codemirror_mode": {
    "name": "ipython",
    "version": 3
   },
   "file_extension": ".py",
   "mimetype": "text/x-python",
   "name": "python",
   "nbconvert_exporter": "python",
   "pygments_lexer": "ipython3",
   "version": "3.9.13"
  }
 },
 "nbformat": 4,
 "nbformat_minor": 5
}
