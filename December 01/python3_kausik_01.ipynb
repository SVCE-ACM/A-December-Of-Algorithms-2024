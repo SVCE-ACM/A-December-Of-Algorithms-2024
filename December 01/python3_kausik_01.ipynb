{
 "cells": [
  {
   "cell_type": "code",
   "execution_count": 5,
   "id": "e1ac6bde",
   "metadata": {},
   "outputs": [
    {
     "name": "stdout",
     "output_type": "stream",
     "text": [
      "Enter no of participants:8\n",
      "1\n",
      "2\n",
      "4\n",
      "5\n",
      "6\n",
      "7\n",
      "8\n",
      "The participant no returned : [1, 2, 4, 5, 6, 7, 8]\n",
      "The participant 3 is missing.\n"
     ]
    }
   ],
   "source": [
    "import numpy as np\n",
    "N=int(input(\"Enter no of participants:\"))\n",
    "arr=[]\n",
    "for i in range(N-1):\n",
    "    x=int(input())\n",
    "    arr.append(x)\n",
    "print(\"The participant no returned :\",arr)\n",
    "total=N*(N+1)//2\n",
    "arrtot=np.sum(arr)\n",
    "missingno=total-arrtot\n",
    "print(f\"The participant {missingno} is missing.\")"
   ]
  },
  {
   "cell_type": "code",
   "execution_count": null,
   "id": "03ab3cd1",
   "metadata": {},
   "outputs": [],
   "source": []
  },
  {
   "cell_type": "code",
   "execution_count": null,
   "id": "c473bfe5",
   "metadata": {},
   "outputs": [],
   "source": []
  },
  {
   "cell_type": "code",
   "execution_count": null,
   "id": "06cdb231",
   "metadata": {},
   "outputs": [],
   "source": []
  }
 ],
 "metadata": {
  "kernelspec": {
   "display_name": "Python 3 (ipykernel)",
   "language": "python",
   "name": "python3"
  },
  "language_info": {
   "codemirror_mode": {
    "name": "ipython",
    "version": 3
   },
   "file_extension": ".py",
   "mimetype": "text/x-python",
   "name": "python",
   "nbconvert_exporter": "python",
   "pygments_lexer": "ipython3",
   "version": "3.9.13"
  }
 },
 "nbformat": 4,
 "nbformat_minor": 5
}
