{
 "cells": [
  {
   "cell_type": "code",
   "execution_count": 2,
   "metadata": {},
   "outputs": [
    {
     "name": "stdout",
     "output_type": "stream",
     "text": [
      "normalized vec1: 0.600000 0.800000 0.000000\n",
      "normalized vec2: -0.600000 0.800000 0.000000\n",
      "normalized vec3: 0.384615 0.923077 0.000000\n"
     ]
    }
   ],
   "source": [
    "import math\n",
    "\n",
    "def normalize_velocity(vx, vy, vz):\n",
    "    magnitude = math.sqrt(vx**2 + vy**2 + vz**2)\n",
    "    if magnitude == 0:\n",
    "        return (0, 0, 0)\n",
    "    normalized_vx = vx / magnitude\n",
    "    normalized_vy = vy / magnitude\n",
    "    normalized_vz = vz / magnitude\n",
    "    \n",
    "    return (normalized_vx, normalized_vy, normalized_vz)\n",
    "\n",
    "vec1 = (3, 4, 0)\n",
    "vec2 = (-6, 8, 0)\n",
    "vec3 = (5, 12, 0)\n",
    "\n",
    "normalized_vec1 = normalize_velocity(*vec1)\n",
    "normalized_vec2 = normalize_velocity(*vec2)\n",
    "normalized_vec3 = normalize_velocity(*vec3)\n",
    "print(f\"normalized vec1: {normalized_vec1[0]:.6f} {normalized_vec1[1]:.6f} {normalized_vec1[2]:.6f}\")\n",
    "print(f\"normalized vec2: {normalized_vec2[0]:.6f} {normalized_vec2[1]:.6f} {normalized_vec2[2]:.6f}\")\n",
    "print(f\"normalized vec3: {normalized_vec3[0]:.6f} {normalized_vec3[1]:.6f} {normalized_vec3[2]:.6f}\")\n"
   ]
  }
 ],
 "metadata": {
  "kernelspec": {
   "display_name": "Python 3",
   "language": "python",
   "name": "python3"
  },
  "language_info": {
   "codemirror_mode": {
    "name": "ipython",
    "version": 3
   },
   "file_extension": ".py",
   "mimetype": "text/x-python",
   "name": "python",
   "nbconvert_exporter": "python",
   "pygments_lexer": "ipython3",
   "version": "3.9.6"
  },
  "orig_nbformat": 4
 },
 "nbformat": 4,
 "nbformat_minor": 2
}
