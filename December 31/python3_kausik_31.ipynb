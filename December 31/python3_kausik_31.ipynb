{
 "cells": [
  {
   "cell_type": "code",
   "execution_count": 1,
   "id": "0509c7cb",
   "metadata": {},
   "outputs": [
    {
     "name": "stdout",
     "output_type": "stream",
     "text": [
      "[0.5990692955592084, 0.7987590607456112, 0.0]\n",
      "[-0.5990692955592084, 0.7987590607456112, 0.0]\n",
      "[0.38395192708270287, 0.9214846249984868, 0.0]\n"
     ]
    }
   ],
   "source": [
    "import struct\n",
    "\n",
    "def fast_inverse_sqrt(number):\n",
    "    i = struct.unpack('i', struct.pack('f', number))[0]\n",
    "    i = 0x5f3759df - (i >> 1)\n",
    "    y = struct.unpack('f', struct.pack('i', i))[0]\n",
    "    y = y * (1.5 - (number * 0.5 * y * y))\n",
    "    return y\n",
    "\n",
    "def normalize_vectors(vectors):\n",
    "    normalized_vectors = []\n",
    "    for vec in vectors:\n",
    "        magnitude_squared = sum(component ** 2 for component in vec)\n",
    "        inv_magnitude = fast_inverse_sqrt(magnitude_squared)\n",
    "        normalized_vectors.append([component * inv_magnitude for component in vec])\n",
    "    return normalized_vectors\n",
    "\n",
    "vectors = [\n",
    "    [3, 4, 0],\n",
    "    [-6, 8, 0],\n",
    "    [5, 12, 0]\n",
    "]\n",
    "\n",
    "normalized_vectors = normalize_vectors(vectors)\n",
    "for vec in normalized_vectors:\n",
    "    print(vec)\n"
   ]
  },
  {
   "cell_type": "code",
   "execution_count": null,
   "id": "4a426df0",
   "metadata": {},
   "outputs": [],
   "source": []
  }
 ],
 "metadata": {
  "kernelspec": {
   "display_name": "Python 3 (ipykernel)",
   "language": "python",
   "name": "python3"
  },
  "language_info": {
   "codemirror_mode": {
    "name": "ipython",
    "version": 3
   },
   "file_extension": ".py",
   "mimetype": "text/x-python",
   "name": "python",
   "nbconvert_exporter": "python",
   "pygments_lexer": "ipython3",
   "version": "3.9.13"
  }
 },
 "nbformat": 4,
 "nbformat_minor": 5
}
