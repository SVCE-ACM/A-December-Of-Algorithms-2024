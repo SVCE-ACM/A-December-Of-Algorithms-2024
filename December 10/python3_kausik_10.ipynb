{
 "cells": [
  {
   "cell_type": "code",
   "execution_count": 1,
   "id": "997f533e",
   "metadata": {},
   "outputs": [
    {
     "name": "stdout",
     "output_type": "stream",
     "text": [
      "[['A'], ['B', 'C'], ['D'], ['E']]\n"
     ]
    }
   ],
   "source": [
    "def find_task_execution_order(tasks):\n",
    "    graph = {}\n",
    "    in_degree = {}\n",
    "    \n",
    "    for task_id, dependencies in tasks:\n",
    "        if task_id not in graph:\n",
    "            graph[task_id] = []\n",
    "        if task_id not in in_degree:\n",
    "            in_degree[task_id] = 0\n",
    "        \n",
    "        for dependency in dependencies:\n",
    "            if dependency not in graph:\n",
    "                graph[dependency] = []\n",
    "            if dependency not in in_degree:\n",
    "                in_degree[dependency] = 0\n",
    "            graph[dependency].append(task_id)\n",
    "            in_degree[task_id] += 1\n",
    "    \n",
    "    queue = []\n",
    "    for task_id in in_degree:\n",
    "        if in_degree[task_id] == 0:\n",
    "            queue.append(task_id)\n",
    "    \n",
    "    task_order = []\n",
    "    while queue:\n",
    "        level_tasks = []\n",
    "        next_queue = []\n",
    "        \n",
    "        for current_task in queue:\n",
    "            level_tasks.append(current_task)\n",
    "            \n",
    "            for neighbor in graph[current_task]:\n",
    "                in_degree[neighbor] -= 1\n",
    "                if in_degree[neighbor] == 0:\n",
    "                    next_queue.append(neighbor)\n",
    "        \n",
    "        task_order.append(level_tasks)\n",
    "        queue = next_queue\n",
    "    \n",
    "    if any(in_degree[task] > 0 for task in in_degree):\n",
    "        return \"Error: Cyclic dependency detected\"\n",
    "    \n",
    "    return task_order\n",
    "\n",
    "tasks = [\n",
    "    (\"A\", []),\n",
    "    (\"B\", [\"A\"]),\n",
    "    (\"C\", [\"A\"]),\n",
    "    (\"D\", [\"B\", \"C\"]),\n",
    "    (\"E\", [\"D\"])\n",
    "]\n",
    "\n",
    "result = find_task_execution_order(tasks)\n",
    "print(result)\n"
   ]
  },
  {
   "cell_type": "code",
   "execution_count": null,
   "id": "baf35d40",
   "metadata": {},
   "outputs": [],
   "source": []
  }
 ],
 "metadata": {
  "kernelspec": {
   "display_name": "Python 3 (ipykernel)",
   "language": "python",
   "name": "python3"
  },
  "language_info": {
   "codemirror_mode": {
    "name": "ipython",
    "version": 3
   },
   "file_extension": ".py",
   "mimetype": "text/x-python",
   "name": "python",
   "nbconvert_exporter": "python",
   "pygments_lexer": "ipython3",
   "version": "3.9.13"
  }
 },
 "nbformat": 4,
 "nbformat_minor": 5
}
