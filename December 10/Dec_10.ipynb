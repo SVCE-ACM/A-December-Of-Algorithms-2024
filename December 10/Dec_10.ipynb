{
 "cells": [
  {
   "cell_type": "code",
   "execution_count": 3,
   "metadata": {},
   "outputs": [
    {
     "name": "stdout",
     "output_type": "stream",
     "text": [
      "[['A'], ['B', 'C'], ['D'], ['E']]\n"
     ]
    }
   ],
   "source": [
    "from collections import defaultdict, deque\n",
    "\n",
    "def find_task_order(tasks):\n",
    "    graph = defaultdict(list)\n",
    "    in_degree = defaultdict(int)\n",
    "\n",
    "    for task_id, dependencies in tasks:\n",
    "        for dep in dependencies:\n",
    "            graph[dep].append(task_id)\n",
    "        in_degree[task_id] += len(dependencies)\n",
    "\n",
    "    queue = deque([task for task, degree in in_degree.items() if degree == 0])\n",
    "    execution_order = []\n",
    "    processed = set()\n",
    "\n",
    "    while queue:\n",
    "        concurrent_tasks = []\n",
    "        for _ in range(len(queue)):\n",
    "            task = queue.popleft()\n",
    "            if task in processed:\n",
    "                continue\n",
    "            concurrent_tasks.append(task)\n",
    "            processed.add(task)\n",
    "            for neighbor in graph[task]:\n",
    "                in_degree[neighbor] -= 1\n",
    "                if in_degree[neighbor] == 0:\n",
    "                    queue.append(neighbor)\n",
    "        execution_order.append(concurrent_tasks)\n",
    "\n",
    "    if len(processed) < len(in_degree):\n",
    "        return \"Error: Cyclic dependency detected\"\n",
    "\n",
    "    return execution_order\n",
    "\n",
    "tasks = [\n",
    "    (\"A\", []),\n",
    "    (\"B\", [\"A\"]),\n",
    "    (\"C\", [\"A\"]),\n",
    "    (\"D\", [\"B\", \"C\"]),\n",
    "    (\"E\", [\"D\"]),\n",
    "]\n",
    "\n",
    "result = find_task_order(tasks)\n",
    "print(result)\n"
   ]
  }
 ],
 "metadata": {
  "kernelspec": {
   "display_name": "Python 3",
   "language": "python",
   "name": "python3"
  },
  "language_info": {
   "codemirror_mode": {
    "name": "ipython",
    "version": 3
   },
   "file_extension": ".py",
   "mimetype": "text/x-python",
   "name": "python",
   "nbconvert_exporter": "python",
   "pygments_lexer": "ipython3",
   "version": "3.9.6"
  },
  "orig_nbformat": 4
 },
 "nbformat": 4,
 "nbformat_minor": 2
}
