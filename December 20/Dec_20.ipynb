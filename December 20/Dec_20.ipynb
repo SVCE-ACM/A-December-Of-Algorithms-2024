{
 "cells": [
  {
   "cell_type": "code",
   "execution_count": 2,
   "metadata": {},
   "outputs": [
    {
     "name": "stdout",
     "output_type": "stream",
     "text": [
      "7\n"
     ]
    }
   ],
   "source": [
    "def countWays(steps, distance):\n",
    "    dp = [0] * (distance + 1)\n",
    "    dp[0] = 1 \n",
    "    for i in range(1, distance + 1):\n",
    "        for step in steps:\n",
    "            if i >= step:\n",
    "                dp[i] += dp[i - step]\n",
    "    return dp[distance]\n",
    "steps = [1, 2, 3]\n",
    "distance = 4\n",
    "print(countWays(steps, distance))\n"
   ]
  }
 ],
 "metadata": {
  "kernelspec": {
   "display_name": "Python 3",
   "language": "python",
   "name": "python3"
  },
  "language_info": {
   "codemirror_mode": {
    "name": "ipython",
    "version": 3
   },
   "file_extension": ".py",
   "mimetype": "text/x-python",
   "name": "python",
   "nbconvert_exporter": "python",
   "pygments_lexer": "ipython3",
   "version": "3.9.6"
  },
  "orig_nbformat": 4
 },
 "nbformat": 4,
 "nbformat_minor": 2
}
