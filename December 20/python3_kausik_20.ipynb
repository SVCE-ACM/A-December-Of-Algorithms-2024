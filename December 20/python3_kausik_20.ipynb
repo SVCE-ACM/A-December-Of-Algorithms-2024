{
 "cells": [
  {
   "cell_type": "code",
   "execution_count": 2,
   "id": "ffbf308b",
   "metadata": {},
   "outputs": [
    {
     "name": "stdout",
     "output_type": "stream",
     "text": [
      "Number of distinct ways to reach the distance: 13\n"
     ]
    }
   ],
   "source": [
    "def count_ways_to_reach_distance(steps, distance):\n",
    "    dp = [0] * (distance + 1)\n",
    "    dp[0] = 1\n",
    "\n",
    "    for i in range(1, distance + 1):\n",
    "        for step in steps:\n",
    "            if i - step >= 0:\n",
    "                dp[i] += dp[i - step]\n",
    "\n",
    "    return dp[distance]\n",
    "\n",
    "steps = [1, 2, 3]\n",
    "distance = 5\n",
    "result = count_ways_to_reach_distance(steps, distance)\n",
    "print(f\"Number of distinct ways to reach the distance: {result}\")\n"
   ]
  },
  {
   "cell_type": "code",
   "execution_count": null,
   "id": "5a77893f",
   "metadata": {},
   "outputs": [],
   "source": []
  }
 ],
 "metadata": {
  "kernelspec": {
   "display_name": "Python 3 (ipykernel)",
   "language": "python",
   "name": "python3"
  },
  "language_info": {
   "codemirror_mode": {
    "name": "ipython",
    "version": 3
   },
   "file_extension": ".py",
   "mimetype": "text/x-python",
   "name": "python",
   "nbconvert_exporter": "python",
   "pygments_lexer": "ipython3",
   "version": "3.9.13"
  }
 },
 "nbformat": 4,
 "nbformat_minor": 5
}
