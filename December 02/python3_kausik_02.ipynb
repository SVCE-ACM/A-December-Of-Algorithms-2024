{
 "cells": [
  {
   "cell_type": "code",
   "execution_count": 8,
   "id": "e081877d",
   "metadata": {},
   "outputs": [
    {
     "name": "stdout",
     "output_type": "stream",
     "text": [
      "[2, 1, 7, 4, 8, 5, 9, 3, 6]\n"
     ]
    }
   ],
   "source": [
    "arr = [1, 2, 4, 7, 5, 8, 6, 9, 3]\n",
    "\n",
    "for i in range(0, len(arr), 2):\n",
    "    if i > 0 and arr[i] < arr[i - 1]:\n",
    "        arr[i], arr[i - 1] = arr[i - 1], arr[i]\n",
    "    if i < len(arr) - 1 and arr[i] < arr[i + 1]:\n",
    "        arr[i], arr[i + 1] = arr[i + 1], arr[i]\n",
    "\n",
    "print(arr)\n"
   ]
  },
  {
   "cell_type": "code",
   "execution_count": null,
   "id": "41b2495e",
   "metadata": {},
   "outputs": [],
   "source": []
  }
 ],
 "metadata": {
  "kernelspec": {
   "display_name": "Python 3 (ipykernel)",
   "language": "python",
   "name": "python3"
  },
  "language_info": {
   "codemirror_mode": {
    "name": "ipython",
    "version": 3
   },
   "file_extension": ".py",
   "mimetype": "text/x-python",
   "name": "python",
   "nbconvert_exporter": "python",
   "pygments_lexer": "ipython3",
   "version": "3.9.13"
  }
 },
 "nbformat": 4,
 "nbformat_minor": 5
}
