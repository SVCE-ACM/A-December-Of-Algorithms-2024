{
 "cells": [
  {
   "cell_type": "code",
   "execution_count": 2,
   "id": "e5de607a",
   "metadata": {},
   "outputs": [
    {
     "name": "stdout",
     "output_type": "stream",
     "text": [
      "Enter a string:aabc\n",
      "a: ['aabc', 'aacb', 'abac', 'abca', 'acab', 'acba']\n",
      "b: ['baac', 'baca', 'bcaa']\n",
      "c: ['caab', 'caba', 'cbaa']\n"
     ]
    }
   ],
   "source": [
    "from itertools import permutations\n",
    "\n",
    "def group_permutations(s):\n",
    "    unique_permutations = set(permutations(s))\n",
    "    grouped_permutations = {}\n",
    "\n",
    "    for perm in unique_permutations:\n",
    "        perm_str = ''.join(perm)\n",
    "        first_letter = perm_str[0]\n",
    "        \n",
    "        if first_letter not in grouped_permutations:\n",
    "            grouped_permutations[first_letter] = []\n",
    "        \n",
    "        grouped_permutations[first_letter].append(perm_str)\n",
    "\n",
    "    for key in grouped_permutations:\n",
    "        grouped_permutations[key] = sorted(grouped_permutations[key])\n",
    "    \n",
    "    return grouped_permutations\n",
    "\n",
    "# Example usage\n",
    "s = input(\"Enter a string:\")\n",
    "result = group_permutations(s)\n",
    "for key in sorted(result):\n",
    "    print(f\"{key}: {result[key]}\")\n"
   ]
  },
  {
   "cell_type": "code",
   "execution_count": null,
   "id": "c2450af7",
   "metadata": {},
   "outputs": [],
   "source": []
  }
 ],
 "metadata": {
  "kernelspec": {
   "display_name": "Python 3 (ipykernel)",
   "language": "python",
   "name": "python3"
  },
  "language_info": {
   "codemirror_mode": {
    "name": "ipython",
    "version": 3
   },
   "file_extension": ".py",
   "mimetype": "text/x-python",
   "name": "python",
   "nbconvert_exporter": "python",
   "pygments_lexer": "ipython3",
   "version": "3.9.13"
  }
 },
 "nbformat": 4,
 "nbformat_minor": 5
}
