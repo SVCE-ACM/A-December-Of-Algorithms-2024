{
 "cells": [
  {
   "cell_type": "code",
   "execution_count": 1,
   "metadata": {},
   "outputs": [
    {
     "name": "stdout",
     "output_type": "stream",
     "text": [
      "{'a': ['abc', 'acb'], 'b': ['bac', 'bca'], 'c': ['cab', 'cba']}\n"
     ]
    }
   ],
   "source": [
    "from itertools import permutations\n",
    "\n",
    "def group_permutations(s):\n",
    "    unique_perms = sorted(set(''.join(p) for p in permutations(s)))\n",
    "    grouped = {}\n",
    "    for perm in unique_perms:\n",
    "        first_letter = perm[0]\n",
    "        if first_letter not in grouped:\n",
    "            grouped[first_letter] = []\n",
    "        grouped[first_letter].append(perm)\n",
    "    return grouped\n",
    "\n",
    "input_str = \"abc\"\n",
    "result = group_permutations(input_str)\n",
    "print(result)\n"
   ]
  }
 ],
 "metadata": {
  "kernelspec": {
   "display_name": "Python 3",
   "language": "python",
   "name": "python3"
  },
  "language_info": {
   "codemirror_mode": {
    "name": "ipython",
    "version": 3
   },
   "file_extension": ".py",
   "mimetype": "text/x-python",
   "name": "python",
   "nbconvert_exporter": "python",
   "pygments_lexer": "ipython3",
   "version": "3.9.6"
  },
  "orig_nbformat": 4
 },
 "nbformat": 4,
 "nbformat_minor": 2
}
