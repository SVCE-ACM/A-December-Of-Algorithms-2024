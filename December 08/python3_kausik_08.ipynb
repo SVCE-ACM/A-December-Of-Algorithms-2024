{
 "cells": [
  {
   "cell_type": "code",
   "execution_count": 2,
   "id": "64d7660b",
   "metadata": {},
   "outputs": [
    {
     "name": "stdout",
     "output_type": "stream",
     "text": [
      "Enter a positive integer N: 14\n",
      "The total Digit Square Sum from 1 to 14 is: 320\n"
     ]
    }
   ],
   "source": [
    "def digit_manipulation(N):\n",
    "    total_sum = 0\n",
    "    for num in range(1, N + 1):\n",
    "        total_sum += sum(int(digit) ** 2 for digit in str(num))\n",
    "    return total_sum\n",
    "\n",
    "N = int(input(\"Enter a positive integer N: \"))\n",
    "print(f\"The total Digit Square Sum from 1 to {N} is: {digit_manipulation(N)}\")\n"
   ]
  },
  {
   "cell_type": "code",
   "execution_count": null,
   "id": "fc7f57bd",
   "metadata": {},
   "outputs": [],
   "source": []
  }
 ],
 "metadata": {
  "kernelspec": {
   "display_name": "Python 3 (ipykernel)",
   "language": "python",
   "name": "python3"
  },
  "language_info": {
   "codemirror_mode": {
    "name": "ipython",
    "version": 3
   },
   "file_extension": ".py",
   "mimetype": "text/x-python",
   "name": "python",
   "nbconvert_exporter": "python",
   "pygments_lexer": "ipython3",
   "version": "3.9.13"
  }
 },
 "nbformat": 4,
 "nbformat_minor": 5
}
