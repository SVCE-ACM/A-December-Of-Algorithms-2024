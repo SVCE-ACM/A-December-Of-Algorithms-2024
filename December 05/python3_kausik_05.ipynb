{
 "cells": [
  {
   "cell_type": "code",
   "execution_count": 2,
   "id": "63c48974",
   "metadata": {},
   "outputs": [
    {
     "name": "stdout",
     "output_type": "stream",
     "text": [
      "Enter the number of people (n): 7\n",
      "Enter the step count (k): 2\n",
      "The safe position is: 7\n"
     ]
    }
   ],
   "source": [
    "n = int(input(\"Enter the number of people (n): \"))\n",
    "k = int(input(\"Enter the step count (k): \"))\n",
    "safe= 0\n",
    "for i in range(2, n + 1):\n",
    "    safe=(safe+ k) % i\n",
    "\n",
    "safe += 1\n",
    "print(f\"The safe position is: {safe}\")\n"
   ]
  },
  {
   "cell_type": "code",
   "execution_count": null,
   "id": "48542ecc",
   "metadata": {},
   "outputs": [],
   "source": []
  },
  {
   "cell_type": "code",
   "execution_count": null,
   "id": "4d29acdb",
   "metadata": {},
   "outputs": [],
   "source": []
  }
 ],
 "metadata": {
  "kernelspec": {
   "display_name": "Python 3 (ipykernel)",
   "language": "python",
   "name": "python3"
  },
  "language_info": {
   "codemirror_mode": {
    "name": "ipython",
    "version": 3
   },
   "file_extension": ".py",
   "mimetype": "text/x-python",
   "name": "python",
   "nbconvert_exporter": "python",
   "pygments_lexer": "ipython3",
   "version": "3.9.13"
  }
 },
 "nbformat": 4,
 "nbformat_minor": 5
}
