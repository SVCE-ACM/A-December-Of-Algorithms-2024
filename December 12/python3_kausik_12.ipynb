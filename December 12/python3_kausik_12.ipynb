{
 "cells": [
  {
   "cell_type": "code",
   "execution_count": 1,
   "id": "e5f102c9",
   "metadata": {},
   "outputs": [
    {
     "name": "stdout",
     "output_type": "stream",
     "text": [
      "['John purchased 2 tickets', 'Charlie purchased 1 tickets', 'Alice purchased 2 tickets', 'Bob was not served']\n"
     ]
    }
   ],
   "source": [
    "def initialize_system(total_tickets):\n",
    "    system = {\n",
    "        \"total_tickets\": total_tickets,\n",
    "        \"vip_queue\": [],\n",
    "        \"regular_queue\": []\n",
    "    }\n",
    "    return system\n",
    "\n",
    "def add_request(system, request):\n",
    "    parts = request.split()\n",
    "    customer_name = parts[0]\n",
    "    num_tickets = int(parts[1])\n",
    "    is_vip = len(parts) == 3 and parts[2] == 'VIP'\n",
    "\n",
    "    if is_vip:\n",
    "        system[\"vip_queue\"].append((customer_name, num_tickets))\n",
    "    else:\n",
    "        system[\"regular_queue\"].append((customer_name, num_tickets))\n",
    "\n",
    "def process_requests(system):\n",
    "    result = []\n",
    "    while system[\"total_tickets\"] > 0 and (system[\"vip_queue\"] or system[\"regular_queue\"]):\n",
    "        if system[\"vip_queue\"]:\n",
    "            customer_name, num_tickets = system[\"vip_queue\"].pop(0)\n",
    "        else:\n",
    "            customer_name, num_tickets = system[\"regular_queue\"].pop(0)\n",
    "\n",
    "        if num_tickets <= system[\"total_tickets\"]:\n",
    "            system[\"total_tickets\"] -= num_tickets\n",
    "            result.append(f\"{customer_name} purchased {num_tickets} tickets\")\n",
    "        else:\n",
    "            result.append(f\"{customer_name} purchased {system['total_tickets']} tickets\")\n",
    "            system[\"total_tickets\"] = 0\n",
    "\n",
    "    while system[\"vip_queue\"]:\n",
    "        customer_name, _ = system[\"vip_queue\"].pop(0)\n",
    "        result.append(f\"{customer_name} was not served\")\n",
    "\n",
    "    while system[\"regular_queue\"]:\n",
    "        customer_name, _ = system[\"regular_queue\"].pop(0)\n",
    "        result.append(f\"{customer_name} was not served\")\n",
    "\n",
    "    return result\n",
    "\n",
    "N = 5\n",
    "requests = [\"John 2 VIP\", \"Alice 3\", \"Bob 2\", \"Charlie 1 VIP\"]\n",
    "ticketing_system = initialize_system(N)\n",
    "\n",
    "for request in requests:\n",
    "    add_request(ticketing_system, request)\n",
    "\n",
    "result = process_requests(ticketing_system)\n",
    "print(result)\n"
   ]
  },
  {
   "cell_type": "code",
   "execution_count": null,
   "id": "831ace0e",
   "metadata": {},
   "outputs": [],
   "source": []
  }
 ],
 "metadata": {
  "kernelspec": {
   "display_name": "Python 3 (ipykernel)",
   "language": "python",
   "name": "python3"
  },
  "language_info": {
   "codemirror_mode": {
    "name": "ipython",
    "version": 3
   },
   "file_extension": ".py",
   "mimetype": "text/x-python",
   "name": "python",
   "nbconvert_exporter": "python",
   "pygments_lexer": "ipython3",
   "version": "3.9.13"
  }
 },
 "nbformat": 4,
 "nbformat_minor": 5
}
