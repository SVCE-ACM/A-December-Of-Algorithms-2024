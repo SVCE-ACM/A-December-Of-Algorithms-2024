{
 "cells": [
  {
   "cell_type": "code",
   "execution_count": 2,
   "metadata": {},
   "outputs": [
    {
     "name": "stdout",
     "output_type": "stream",
     "text": [
      "John purchased 2 tickets\n",
      "Charlie purchased 1 tickets\n",
      "Alice purchased 2 tickets\n",
      "Bob was not served\n"
     ]
    }
   ],
   "source": [
    "from collections import deque\n",
    "\n",
    "def process_ticket_requests(N, requests):\n",
    "    vip_queue = deque()\n",
    "    regular_queue = deque()\n",
    "    result = []\n",
    "    for request in requests:\n",
    "        parts = request.split()\n",
    "        name = parts[0]\n",
    "        tickets = int(parts[1])\n",
    "        if len(parts) == 3 and parts[2] == \"VIP\":\n",
    "            vip_queue.append((name, tickets))\n",
    "        else:\n",
    "            regular_queue.append((name, tickets))\n",
    "    while vip_queue and N > 0:\n",
    "        name, tickets = vip_queue.popleft()\n",
    "        tickets_to_allocate = min(tickets, N)\n",
    "        N -= tickets_to_allocate\n",
    "        result.append(f\"{name} purchased {tickets_to_allocate} tickets\")\n",
    "    while regular_queue and N > 0:\n",
    "        name, tickets = regular_queue.popleft()\n",
    "        tickets_to_allocate = min(tickets, N)\n",
    "        N -= tickets_to_allocate\n",
    "        if tickets_to_allocate > 0:\n",
    "            result.append(f\"{name} purchased {tickets_to_allocate} tickets\")\n",
    "        else:\n",
    "            result.append(f\"{name} was not served\")\n",
    "    while regular_queue:\n",
    "        name, _ = regular_queue.popleft()\n",
    "        result.append(f\"{name} was not served\")\n",
    "    return result\n",
    "N = 5\n",
    "requests = [\"John 2 VIP\", \"Alice 3\", \"Bob 2\", \"Charlie 1 VIP\"]\n",
    "output = process_ticket_requests(N, requests)\n",
    "for line in output:\n",
    "    print(line)\n"
   ]
  }
 ],
 "metadata": {
  "kernelspec": {
   "display_name": "Python 3",
   "language": "python",
   "name": "python3"
  },
  "language_info": {
   "codemirror_mode": {
    "name": "ipython",
    "version": 3
   },
   "file_extension": ".py",
   "mimetype": "text/x-python",
   "name": "python",
   "nbconvert_exporter": "python",
   "pygments_lexer": "ipython3",
   "version": "3.9.6"
  },
  "orig_nbformat": 4
 },
 "nbformat": 4,
 "nbformat_minor": 2
}
