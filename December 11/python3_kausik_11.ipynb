{
 "cells": [
  {
   "cell_type": "code",
   "execution_count": 4,
   "id": "1ef56671",
   "metadata": {},
   "outputs": [
    {
     "name": "stdout",
     "output_type": "stream",
     "text": [
      "Enter the robot movement:ud\n",
      "True\n"
     ]
    }
   ],
   "source": [
    "def robot_position(moves):\n",
    "    x, y = 0, 0\n",
    "    for move in moves:\n",
    "        if move == 'R':\n",
    "            x += 1\n",
    "        elif move == 'L':\n",
    "            x -= 1\n",
    "        elif move == 'U':\n",
    "            y += 1\n",
    "        elif move == 'D':\n",
    "            y -= 1\n",
    "    return x == 0 and y == 0\n",
    "\n",
    "# Example usage\n",
    "moves =input(\"Enter the robot movement:\")\n",
    "print(robot_position(moves.upper()))\n"
   ]
  },
  {
   "cell_type": "code",
   "execution_count": null,
   "id": "fb54da89",
   "metadata": {},
   "outputs": [],
   "source": []
  },
  {
   "cell_type": "code",
   "execution_count": null,
   "id": "d7745f2c",
   "metadata": {},
   "outputs": [],
   "source": []
  }
 ],
 "metadata": {
  "kernelspec": {
   "display_name": "Python 3 (ipykernel)",
   "language": "python",
   "name": "python3"
  },
  "language_info": {
   "codemirror_mode": {
    "name": "ipython",
    "version": 3
   },
   "file_extension": ".py",
   "mimetype": "text/x-python",
   "name": "python",
   "nbconvert_exporter": "python",
   "pygments_lexer": "ipython3",
   "version": "3.9.13"
  }
 },
 "nbformat": 4,
 "nbformat_minor": 5
}
