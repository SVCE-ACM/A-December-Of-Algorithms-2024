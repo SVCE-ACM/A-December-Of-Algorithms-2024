{
 "cells": [
  {
   "cell_type": "code",
   "execution_count": 8,
   "metadata": {},
   "outputs": [
    {
     "name": "stdout",
     "output_type": "stream",
     "text": [
      "True\n",
      "False\n"
     ]
    }
   ],
   "source": [
    "def judgeCircle(moves: str) -> bool:\n",
    "    x = 0\n",
    "    y = 0\n",
    "    for move in moves:\n",
    "        if move == 'R':\n",
    "            x += 1\n",
    "        elif move == 'L':\n",
    "            x -= 1\n",
    "        elif move == 'U':\n",
    "            y += 1\n",
    "        elif move == 'D':\n",
    "            y -= 1\n",
    "    return x == 0 and y == 0\n",
    "print(judgeCircle(\"UD\"))\n",
    "print(judgeCircle(\"LL\"))"
   ]
  }
 ],
 "metadata": {
  "kernelspec": {
   "display_name": "Python 3",
   "language": "python",
   "name": "python3"
  },
  "language_info": {
   "codemirror_mode": {
    "name": "ipython",
    "version": 3
   },
   "file_extension": ".py",
   "mimetype": "text/x-python",
   "name": "python",
   "nbconvert_exporter": "python",
   "pygments_lexer": "ipython3",
   "version": "3.9.6"
  },
  "orig_nbformat": 4
 },
 "nbformat": 4,
 "nbformat_minor": 2
}
