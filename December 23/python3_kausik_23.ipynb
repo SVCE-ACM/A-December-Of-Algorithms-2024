{
 "cells": [
  {
   "cell_type": "code",
   "execution_count": 1,
   "id": "91d4bba5",
   "metadata": {},
   "outputs": [
    {
     "name": "stdout",
     "output_type": "stream",
     "text": [
      "Final Magical Result: 49\n"
     ]
    }
   ],
   "source": [
    "def calculate_magic_result(grid):\n",
    "    n = len(grid)\n",
    "    sum_primary = sum(grid[i][i] for i in range(n))\n",
    "    sum_secondary = sum(grid[i][n-i-1] for i in range(n))\n",
    "    diagonal_energy = abs(sum_primary - sum_secondary)\n",
    "    \n",
    "    boundary_energy = sum(grid[i][0] for i in range(n)) + sum(grid[i][n-1] for i in range(n)) + sum(grid[0][j] for j in range(1, n-1)) + sum(grid[n-1][j] for j in range(1, n-1))\n",
    "    \n",
    "    final_result = diagonal_energy + boundary_energy\n",
    "    return final_result\n",
    "\n",
    "\n",
    "grid = [\n",
    "    [5, 1, 9],\n",
    "    [2, 4, 8],\n",
    "    [7, 6, 3]\n",
    "]\n",
    "result = calculate_magic_result(grid)\n",
    "print(f\"Final Magical Result: {result}\")\n"
   ]
  },
  {
   "cell_type": "code",
   "execution_count": null,
   "id": "02dd7669",
   "metadata": {},
   "outputs": [],
   "source": []
  }
 ],
 "metadata": {
  "kernelspec": {
   "display_name": "Python 3 (ipykernel)",
   "language": "python",
   "name": "python3"
  },
  "language_info": {
   "codemirror_mode": {
    "name": "ipython",
    "version": 3
   },
   "file_extension": ".py",
   "mimetype": "text/x-python",
   "name": "python",
   "nbconvert_exporter": "python",
   "pygments_lexer": "ipython3",
   "version": "3.9.13"
  }
 },
 "nbformat": 4,
 "nbformat_minor": 5
}
