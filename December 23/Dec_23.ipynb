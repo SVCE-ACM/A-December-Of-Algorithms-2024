{
 "cells": [
  {
   "cell_type": "code",
   "execution_count": 3,
   "metadata": {},
   "outputs": [
    {
     "name": "stdout",
     "output_type": "stream",
     "text": [
      "Final Result 40\n"
     ]
    }
   ],
   "source": [
    "def crystal_grid(grid):\n",
    "    n = len(grid)\n",
    "    primary_diagonal_sum = sum(grid[i][i] for i in range(n))\n",
    "    secondary_diagonal_sum = sum(grid[i][n - i - 1] for i in range(n))\n",
    "    diagonal_energy = abs(primary_diagonal_sum - secondary_diagonal_sum)\n",
    "    boundary_energy = 0\n",
    "    boundary_energy += sum(grid[0]) + sum(grid[n - 1])\n",
    "    for i in range(1, n - 1):\n",
    "        boundary_energy += grid[i][0] + grid[i][n - 1]\n",
    "    final_result = diagonal_energy + boundary_energy\n",
    "    return final_result\n",
    "grid = [\n",
    "    [1, 2, 3],\n",
    "    [4, 5, 6],\n",
    "    [7, 8, 9]\n",
    "]\n",
    "print(\"Final Result\",crystal_grid(grid))\n"
   ]
  }
 ],
 "metadata": {
  "kernelspec": {
   "display_name": "Python 3",
   "language": "python",
   "name": "python3"
  },
  "language_info": {
   "codemirror_mode": {
    "name": "ipython",
    "version": 3
   },
   "file_extension": ".py",
   "mimetype": "text/x-python",
   "name": "python",
   "nbconvert_exporter": "python",
   "pygments_lexer": "ipython3",
   "version": "3.9.6"
  },
  "orig_nbformat": 4
 },
 "nbformat": 4,
 "nbformat_minor": 2
}
