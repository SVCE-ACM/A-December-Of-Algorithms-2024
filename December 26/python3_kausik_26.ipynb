{
 "cells": [
  {
   "cell_type": "code",
   "execution_count": 1,
   "id": "52b6c5c1",
   "metadata": {},
   "outputs": [
    {
     "name": "stdout",
     "output_type": "stream",
     "text": [
      "True\n"
     ]
    }
   ],
   "source": [
    "def can_reach_last(nums):\n",
    "    max_reach = 0\n",
    "    for i, num in enumerate(nums):\n",
    "        if i > max_reach:\n",
    "            return False\n",
    "        max_reach = max(max_reach, i + num)\n",
    "    return True\n",
    "\n",
    "nums = [2, 3, 1, 0, 4]\n",
    "result = can_reach_last(nums)\n",
    "print(result)  \n"
   ]
  },
  {
   "cell_type": "code",
   "execution_count": null,
   "id": "449cfc24",
   "metadata": {},
   "outputs": [],
   "source": []
  }
 ],
 "metadata": {
  "kernelspec": {
   "display_name": "Python 3 (ipykernel)",
   "language": "python",
   "name": "python3"
  },
  "language_info": {
   "codemirror_mode": {
    "name": "ipython",
    "version": 3
   },
   "file_extension": ".py",
   "mimetype": "text/x-python",
   "name": "python",
   "nbconvert_exporter": "python",
   "pygments_lexer": "ipython3",
   "version": "3.9.13"
  }
 },
 "nbformat": 4,
 "nbformat_minor": 5
}
