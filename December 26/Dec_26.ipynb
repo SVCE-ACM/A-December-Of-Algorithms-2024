{
 "cells": [
  {
   "cell_type": "code",
   "execution_count": 2,
   "metadata": {},
   "outputs": [
    {
     "name": "stdout",
     "output_type": "stream",
     "text": [
      "True\n",
      "False\n"
     ]
    }
   ],
   "source": [
    "def can_jump(nums):\n",
    "    max_reachable = 0  # The farthest index we can reach\n",
    "    target = len(nums) - 1  # The last index\n",
    "\n",
    "    for i, jump in enumerate(nums):\n",
    "        if i > max_reachable:  # If we can't reach this index\n",
    "            return False\n",
    "        max_reachable = max(max_reachable, i + jump)  # Update the farthest reachable index\n",
    "        if max_reachable >= target:  # If we can reach or exceed the last index\n",
    "            return True\n",
    "\n",
    "    return False\n",
    "\n",
    "# Example Input\n",
    "num1=[2,3,1,0,4]\n",
    "num2=[3,2,1,0,4]\n",
    "# Output\n",
    "print(can_jump(num1))\n",
    "print(can_jump(num2))\n"
   ]
  }
 ],
 "metadata": {
  "kernelspec": {
   "display_name": "Python 3",
   "language": "python",
   "name": "python3"
  },
  "language_info": {
   "codemirror_mode": {
    "name": "ipython",
    "version": 3
   },
   "file_extension": ".py",
   "mimetype": "text/x-python",
   "name": "python",
   "nbconvert_exporter": "python",
   "pygments_lexer": "ipython3",
   "version": "3.9.6"
  },
  "orig_nbformat": 4
 },
 "nbformat": 4,
 "nbformat_minor": 2
}
