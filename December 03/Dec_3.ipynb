{
 "cells": [
  {
   "cell_type": "code",
   "execution_count": 3,
   "metadata": {},
   "outputs": [
    {
     "name": "stdout",
     "output_type": "stream",
     "text": [
      "RBRBR\n",
      "Not possible\n"
     ]
    }
   ],
   "source": [
    "def arrange_squares(R, B):\n",
    "    if abs(R - B) > 1:\n",
    "        return \"Not possible\"\n",
    "\n",
    "    if R >= B:\n",
    "        result = \"RB\" * B + \"R\" * (R - B)\n",
    "    else:\n",
    "        result = \"BR\" * R + \"B\" * (B - R)\n",
    "\n",
    "    return result\n",
    "\n",
    "R = 3\n",
    "B = 2\n",
    "output = arrange_squares(3, 2)\n",
    "print(output)\n",
    "print(arrange_squares(5, 3))\n",
    "\n"
   ]
  }
 ],
 "metadata": {
  "kernelspec": {
   "display_name": "Python 3",
   "language": "python",
   "name": "python3"
  },
  "language_info": {
   "codemirror_mode": {
    "name": "ipython",
    "version": 3
   },
   "file_extension": ".py",
   "mimetype": "text/x-python",
   "name": "python",
   "nbconvert_exporter": "python",
   "pygments_lexer": "ipython3",
   "version": "3.9.6"
  },
  "orig_nbformat": 4
 },
 "nbformat": 4,
 "nbformat_minor": 2
}
