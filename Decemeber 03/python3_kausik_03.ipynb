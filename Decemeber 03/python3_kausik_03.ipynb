{
 "cells": [
  {
   "cell_type": "code",
   "execution_count": 6,
   "id": "8de19956",
   "metadata": {},
   "outputs": [
    {
     "name": "stdout",
     "output_type": "stream",
     "text": [
      "Enter no of red blocks:5\n",
      "Enter no of blue blocks:5\n",
      "The result for the color blocks arrangement is  RBRBRBRBRB\n"
     ]
    }
   ],
   "source": [
    "r=int(input(\"Enter no of red blocks:\"))\n",
    "b=int(input(\"Enter no of blue blocks:\"))\n",
    "if abs(r-b)>1:\n",
    "    print(\"Not possible\")\n",
    "else:\n",
    "    c1,c2=(\"R\",\"B\") if r>=b else (\"B\",\"R\")\n",
    "    count1,count2=max(r,b),min(r,b)\n",
    "    r=[]\n",
    "    while count1>0 or count2>0:\n",
    "        if count1>0:\n",
    "            r.append(c1)\n",
    "            count1-=1\n",
    "        if count2>0:\n",
    "            r.append(c2)\n",
    "            count2-=1\n",
    "    result=\"\".join(r)\n",
    "    print(\"The result for the color blocks arrangement is \",result)"
   ]
  },
  {
   "cell_type": "code",
   "execution_count": null,
   "id": "ff578837",
   "metadata": {},
   "outputs": [],
   "source": []
  },
  {
   "cell_type": "code",
   "execution_count": null,
   "id": "a353db50",
   "metadata": {},
   "outputs": [],
   "source": []
  }
 ],
 "metadata": {
  "kernelspec": {
   "display_name": "Python 3 (ipykernel)",
   "language": "python",
   "name": "python3"
  },
  "language_info": {
   "codemirror_mode": {
    "name": "ipython",
    "version": 3
   },
   "file_extension": ".py",
   "mimetype": "text/x-python",
   "name": "python",
   "nbconvert_exporter": "python",
   "pygments_lexer": "ipython3",
   "version": "3.9.13"
  }
 },
 "nbformat": 4,
 "nbformat_minor": 5
}
