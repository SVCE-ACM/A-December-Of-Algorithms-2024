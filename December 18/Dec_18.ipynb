{
 "cells": [
  {
   "cell_type": "code",
   "execution_count": 2,
   "metadata": {},
   "outputs": [
    {
     "name": "stdout",
     "output_type": "stream",
     "text": [
      "Maximum Profit: $20650\n"
     ]
    }
   ],
   "source": [
    "def gem_price(gem):\n",
    "    prices = {'D': 500, 'R': 250, 'E': 100}\n",
    "    return prices.get(gem, 0)\n",
    "\n",
    "def longest_palindromic_subsequence(chain):\n",
    "    n = len(chain)\n",
    "    dp = [[0] * n for _ in range(n)]\n",
    "    for i in range(n):\n",
    "        dp[i][i] = 1\n",
    "    for length in range(2, n+1):\n",
    "        for i in range(n-length+1):\n",
    "            j = i + length - 1\n",
    "            if chain[i] == chain[j]:\n",
    "                dp[i][j] = dp[i+1][j-1] + 2 if length > 2 else 2\n",
    "            else:\n",
    "                dp[i][j] = max(dp[i+1][j], dp[i][j-1])\n",
    "    return dp[0][n-1]\n",
    "\n",
    "def calculate_max_profit(chain):\n",
    "    length_of_palindrome = longest_palindromic_subsequence(chain)\n",
    "    total_value = 0\n",
    "    for gem in chain:\n",
    "        total_value += gem_price(gem)\n",
    "    return total_value * length_of_palindrome\n",
    "\n",
    "chain = \"RDEREDRRRD\"\n",
    "max_profit = calculate_max_profit(chain)\n",
    "\n",
    "print(f\"Maximum Profit: ${max_profit}\")\n"
   ]
  }
 ],
 "metadata": {
  "kernelspec": {
   "display_name": "Python 3",
   "language": "python",
   "name": "python3"
  },
  "language_info": {
   "codemirror_mode": {
    "name": "ipython",
    "version": 3
   },
   "file_extension": ".py",
   "mimetype": "text/x-python",
   "name": "python",
   "nbconvert_exporter": "python",
   "pygments_lexer": "ipython3",
   "version": "3.9.6"
  },
  "orig_nbformat": 4
 },
 "nbformat": 4,
 "nbformat_minor": 2
}
