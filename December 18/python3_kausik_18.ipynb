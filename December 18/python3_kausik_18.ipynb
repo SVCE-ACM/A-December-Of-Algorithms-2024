{
 "cells": [
  {
   "cell_type": "code",
   "execution_count": 1,
   "id": "d76d20fe",
   "metadata": {},
   "outputs": [
    {
     "name": "stdout",
     "output_type": "stream",
     "text": [
      "Maximum profit: $8000\n"
     ]
    }
   ],
   "source": [
    "def manacher(s):\n",
    "    T = '#'.join('^{}$'.format(s))\n",
    "    n = len(T)\n",
    "    P = [0] * n\n",
    "    C = R = 0\n",
    "    for i in range(1, n-1):\n",
    "        P[i] = (R > i) and min(R - i, P[2 * C - i])\n",
    "        while T[i + P[i] + 1] == T[i - P[i] - 1]:\n",
    "            P[i] += 1\n",
    "        if i + P[i] > R:\n",
    "            C, R = i, i + P[i]\n",
    "    return s[(max(range(1, n-1), key=lambda x: P[x]) - max(P)) // 2: (max(range(1, n-1), key=lambda x: P[x]) + max(P)) // 2]\n",
    "\n",
    "def calculate_value(palindrome):\n",
    "    value = 0\n",
    "    for gem in palindrome:\n",
    "        if gem == 'D':\n",
    "            value += 500\n",
    "        elif gem == 'R':\n",
    "            value += 250\n",
    "        elif gem == 'E':\n",
    "            value += 100\n",
    "    return value * len(palindrome)\n",
    "\n",
    "def maximum_profit(gem_chain):\n",
    "    longest_palindrome = manacher(gem_chain)\n",
    "    return calculate_value(longest_palindrome)\n",
    "\n",
    "\n",
    "gem_chain = \"DRERDEREEED\"\n",
    "result = maximum_profit(gem_chain)\n",
    "print(f\"Maximum profit: ${result}\")\n"
   ]
  },
  {
   "cell_type": "code",
   "execution_count": null,
   "id": "6a4686a4",
   "metadata": {},
   "outputs": [],
   "source": []
  }
 ],
 "metadata": {
  "kernelspec": {
   "display_name": "Python 3 (ipykernel)",
   "language": "python",
   "name": "python3"
  },
  "language_info": {
   "codemirror_mode": {
    "name": "ipython",
    "version": 3
   },
   "file_extension": ".py",
   "mimetype": "text/x-python",
   "name": "python",
   "nbconvert_exporter": "python",
   "pygments_lexer": "ipython3",
   "version": "3.9.13"
  }
 },
 "nbformat": 4,
 "nbformat_minor": 5
}
