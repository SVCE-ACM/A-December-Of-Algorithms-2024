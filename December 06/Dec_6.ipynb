{
 "cells": [
  {
   "cell_type": "code",
   "execution_count": 2,
   "metadata": {},
   "outputs": [
    {
     "name": "stdout",
     "output_type": "stream",
     "text": [
      "Unique pairs are: [(2, 4), (1, 5)]\n"
     ]
    }
   ],
   "source": [
    "def find_pairs(n, t):\n",
    "    unique_pairs = []\n",
    "    for i in range(len(n)):\n",
    "        for j in range(i + 1, len(n)):\n",
    "            if n[i] + n[j] == t:\n",
    "                pair = (n[i], n[j])\n",
    "                unique_pairs.append(pair)\n",
    "    return unique_pairs\n",
    "\n",
    "n = [2, 4, 3, 7, 1, 5]\n",
    "t = 6\n",
    "result = find_pairs(n, t)\n",
    "print(\"Unique pairs are:\", result)"
   ]
  }
 ],
 "metadata": {
  "kernelspec": {
   "display_name": "Python 3",
   "language": "python",
   "name": "python3"
  },
  "language_info": {
   "codemirror_mode": {
    "name": "ipython",
    "version": 3
   },
   "file_extension": ".py",
   "mimetype": "text/x-python",
   "name": "python",
   "nbconvert_exporter": "python",
   "pygments_lexer": "ipython3",
   "version": "3.9.6"
  },
  "orig_nbformat": 4
 },
 "nbformat": 4,
 "nbformat_minor": 2
}
