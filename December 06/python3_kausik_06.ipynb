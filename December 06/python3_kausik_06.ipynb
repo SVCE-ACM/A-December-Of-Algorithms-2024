{
 "cells": [
  {
   "cell_type": "code",
   "execution_count": 5,
   "id": "f19bb3c5",
   "metadata": {},
   "outputs": [
    {
     "name": "stdout",
     "output_type": "stream",
     "text": [
      "Enter no of numbers :5\n",
      "Enter 5 numbers:\n",
      "1\n",
      "2\n",
      "3\n",
      "4\n",
      "5\n",
      "number=[1, 2, 3, 4, 5]\n",
      "Enter target:6\n",
      "Unique pairs: [(1, 5), (2, 4)]\n"
     ]
    }
   ],
   "source": [
    "number=[]\n",
    "n=int(input(\"Enter no of numbers :\"))\n",
    "print(f\"Enter {n} numbers:\")\n",
    "for i in range (0,n):\n",
    "    number.append(int(input()))\n",
    "print(f\"number={number}\")\n",
    "target=int(input(\"Enter target:\"))\n",
    "pair=[]\n",
    "for i in range(0,n):\n",
    "    for j in range(i+1,n):\n",
    "        if number[i]+number[j]==target:\n",
    "            pair.append((number[i],number[j]))\n",
    "print(\"Unique pairs:\",pair)"
   ]
  },
  {
   "cell_type": "code",
   "execution_count": null,
   "id": "b703a05d",
   "metadata": {},
   "outputs": [],
   "source": []
  }
 ],
 "metadata": {
  "kernelspec": {
   "display_name": "Python 3 (ipykernel)",
   "language": "python",
   "name": "python3"
  },
  "language_info": {
   "codemirror_mode": {
    "name": "ipython",
    "version": 3
   },
   "file_extension": ".py",
   "mimetype": "text/x-python",
   "name": "python",
   "nbconvert_exporter": "python",
   "pygments_lexer": "ipython3",
   "version": "3.9.13"
  }
 },
 "nbformat": 4,
 "nbformat_minor": 5
}
