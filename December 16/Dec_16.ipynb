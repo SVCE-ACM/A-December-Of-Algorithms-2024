{
 "cells": [
  {
   "cell_type": "code",
   "execution_count": 2,
   "metadata": {},
   "outputs": [
    {
     "name": "stdout",
     "output_type": "stream",
     "text": [
      "Minimum platforms required: 2\n"
     ]
    }
   ],
   "source": [
    "def minPlatforms(arrivals, departures):\n",
    "    arrivals.sort()\n",
    "    departures.sort()\n",
    "\n",
    "    n = len(arrivals)\n",
    "    i = 0\n",
    "    j = 0\n",
    "    platforms_needed = 0\n",
    "    max_platforms = 0\n",
    "\n",
    "    while i < n and j < n:\n",
    "        if arrivals[i] <= departures[j]:\n",
    "            platforms_needed += 1\n",
    "            i += 1\n",
    "        else:\n",
    "            platforms_needed -= 1\n",
    "            j += 1\n",
    "        \n",
    "        max_platforms = max(max_platforms, platforms_needed)\n",
    "    \n",
    "    return max_platforms\n",
    "\n",
    "arrivals = [1030, 1015, 1045, 1100, 1500, 1530]\n",
    "departures = [1040, 1105, 1050, 1130, 1515, 1600]\n",
    "\n",
    "\n",
    "print(\"Minimum platforms required:\", minPlatforms(arrivals, departures))\n"
   ]
  }
 ],
 "metadata": {
  "kernelspec": {
   "display_name": "Python 3",
   "language": "python",
   "name": "python3"
  },
  "language_info": {
   "codemirror_mode": {
    "name": "ipython",
    "version": 3
   },
   "file_extension": ".py",
   "mimetype": "text/x-python",
   "name": "python",
   "nbconvert_exporter": "python",
   "pygments_lexer": "ipython3",
   "version": "3.9.6"
  },
  "orig_nbformat": 4
 },
 "nbformat": 4,
 "nbformat_minor": 2
}
