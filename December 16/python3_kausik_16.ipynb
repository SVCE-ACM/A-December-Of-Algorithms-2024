{
 "cells": [
  {
   "cell_type": "code",
   "execution_count": 1,
   "id": "9259450a",
   "metadata": {},
   "outputs": [
    {
     "name": "stdout",
     "output_type": "stream",
     "text": [
      "Minimum platforms required: 3\n"
     ]
    }
   ],
   "source": [
    "def find_min_platforms(arrivals, departures):\n",
    "    arrivals.sort()\n",
    "    departures.sort()\n",
    "    n = len(arrivals)\n",
    "    platforms_needed = 0\n",
    "    max_platforms = 0\n",
    "    i = j = 0\n",
    "\n",
    "    while i < n and j < n:\n",
    "        if arrivals[i] < departures[j]:\n",
    "            platforms_needed += 1\n",
    "            max_platforms = max(max_platforms, platforms_needed)\n",
    "            i += 1\n",
    "        else:\n",
    "            platforms_needed -= 1\n",
    "            j += 1\n",
    "\n",
    "    return max_platforms\n",
    "\n",
    "arrivals = [900, 940, 950, 1100, 1500, 1800]\n",
    "departures = [910, 1200, 1120, 1130, 1900, 2000]\n",
    "result = find_min_platforms(arrivals, departures)\n",
    "print(f\"Minimum platforms required: {result}\")\n"
   ]
  },
  {
   "cell_type": "code",
   "execution_count": null,
   "id": "114a167f",
   "metadata": {},
   "outputs": [],
   "source": []
  }
 ],
 "metadata": {
  "kernelspec": {
   "display_name": "Python 3 (ipykernel)",
   "language": "python",
   "name": "python3"
  },
  "language_info": {
   "codemirror_mode": {
    "name": "ipython",
    "version": 3
   },
   "file_extension": ".py",
   "mimetype": "text/x-python",
   "name": "python",
   "nbconvert_exporter": "python",
   "pygments_lexer": "ipython3",
   "version": "3.9.13"
  }
 },
 "nbformat": 4,
 "nbformat_minor": 5
}
