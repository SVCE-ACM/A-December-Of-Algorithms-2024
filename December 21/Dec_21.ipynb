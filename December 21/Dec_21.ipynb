{
 "cells": [
  {
   "cell_type": "code",
   "execution_count": 2,
   "metadata": {},
   "outputs": [],
   "source": [
    "class ListNode:\n",
    "    def __init__(self, val=0, next=None):\n",
    "        self.val = val\n",
    "        self.next = next\n",
    "\n",
    "def create_linked_list(values):\n",
    "    if not values:\n",
    "        return None\n",
    "    head = ListNode(values[0])\n",
    "    current = head\n",
    "    for value in values[1:]:\n",
    "        current.next = ListNode(value)\n",
    "        current = current.next\n",
    "    return head\n",
    "\n",
    "def find_intersection(head1, head2):\n",
    "    def get_length(head):\n",
    "        length = 0\n",
    "        while head:\n",
    "            length += 1\n",
    "            head = head.next\n",
    "        return length\n",
    "\n",
    "    len1, len2 = get_length(head1), get_length(head2)\n",
    "    cur1, cur2 = head1, head2\n",
    "\n",
    "    if len1 > len2:\n",
    "        for _ in range(len1 - len2):\n",
    "            cur1 = cur1.next\n",
    "    elif len2 > len1:\n",
    "        for _ in range(len2 - len1):\n",
    "            cur2 = cur2.next\n",
    "\n",
    "    while cur1 and cur2:\n",
    "        if cur1 == cur2:\n",
    "            return cur1.val\n",
    "        cur1 = cur1.next\n",
    "        cur2 = cur2.next\n",
    "\n",
    "    return \"No intersection found\""
   ]
  },
  {
   "cell_type": "code",
   "execution_count": 4,
   "metadata": {},
   "outputs": [
    {
     "name": "stdout",
     "output_type": "stream",
     "text": [
      "Enter the number of nodes in the first linked list N:  4\n",
      "Enter N space-separated node values for the first linked list:  10 20 30 40\n",
      "Enter the number of nodes in the second linked list M:  3\n",
      "Enter M space-separated node values for the second linked list:  50 60 70 80\n",
      "Enter the position (1-indexed) in the first linked list where the second linked list intersects (0 if no intersection):  0\n"
     ]
    }
   ],
   "source": [
    "\n",
    "# Input Handling\n",
    "n = int(input(\"Enter the number of nodes in the first linked list N: \"))\n",
    "list1 = list(map(int, input(\"Enter N space-separated node values for the first linked list: \").split()))\n",
    "m = int(input(\"Enter the number of nodes in the second linked list M: \"))\n",
    "list2 = list(map(int, input(\"Enter M space-separated node values for the second linked list: \").split()))\n",
    "intersect_pos = int(input(\"Enter the position (1-indexed) in the first linked list where the second linked list intersects (0 if no intersection): \"))\n",
    "\n"
   ]
  },
  {
   "cell_type": "code",
   "execution_count": 6,
   "metadata": {},
   "outputs": [
    {
     "name": "stdout",
     "output_type": "stream",
     "text": [
      "No intersection found\n"
     ]
    }
   ],
   "source": [
    "head1 = create_linked_list(list1)\n",
    "head2 = create_linked_list(list2)\n",
    "if intersect_pos > 0:\n",
    "    cur1 = head1\n",
    "    for _ in range(intersect_pos - 1):\n",
    "        cur1 = cur1.next\n",
    "    cur2 = head2\n",
    "    while cur2.next:\n",
    "        cur2 = cur2.next\n",
    "    cur2.next = cur1\n",
    "\n",
    "result = find_intersection(head1, head2)\n",
    "print(result)"
   ]
  },
  {
   "cell_type": "code",
   "execution_count": null,
   "metadata": {},
   "outputs": [],
   "source": []
  }
 ],
 "metadata": {
  "kernelspec": {
   "display_name": "Python 3 (ipykernel)",
   "language": "python",
   "name": "python3"
  },
  "language_info": {
   "codemirror_mode": {
    "name": "ipython",
    "version": 3
   },
   "file_extension": ".py",
   "mimetype": "text/x-python",
   "name": "python",
   "nbconvert_exporter": "python",
   "pygments_lexer": "ipython3",
   "version": "3.9.6"
  }
 },
 "nbformat": 4,
 "nbformat_minor": 4
}
