{
 "cells": [
  {
   "cell_type": "code",
   "execution_count": 1,
   "id": "4763e24a",
   "metadata": {},
   "outputs": [
    {
     "name": "stdout",
     "output_type": "stream",
     "text": [
      "Enter the number of nodes in the first linked list: 4\n",
      "Enter the values for the first linked list: 1 2 3 4\n",
      "Enter the number of nodes in the second linked list: 3\n",
      "Enter the values for the second linked list: 8 9 6\n",
      "Enter the position in the first linked list where the second linked list intersects (0 if no intersection): 3\n",
      "The intersection point is: 3\n"
     ]
    }
   ],
   "source": [
    "class ListNode:\n",
    "    def __init__(self, value=0, next=None):\n",
    "        self.value = value\n",
    "        self.next = next\n",
    "\n",
    "def get_intersection_node(headA, headB):\n",
    "    if not headA or not headB:\n",
    "        return None\n",
    "\n",
    "    pointerA, pointerB = headA, headB\n",
    "\n",
    "    while pointerA != pointerB:\n",
    "        pointerA = pointerA.next if pointerA else headB\n",
    "        pointerB = pointerB.next if pointerB else headA\n",
    "\n",
    "    return pointerA\n",
    "\n",
    "def build_linked_list(values):\n",
    "    if not values:\n",
    "        return None\n",
    "    head = ListNode(values[0])\n",
    "    current = head\n",
    "    for value in values[1:]:\n",
    "        current.next = ListNode(value)\n",
    "        current = current.next\n",
    "    return head\n",
    "\n",
    "def print_linked_list(head):\n",
    "    current = head\n",
    "    while current:\n",
    "        print(current.value, end=' ')\n",
    "        current = current.next\n",
    "    print()\n",
    "\n",
    "N = int(input(\"Enter the number of nodes in the first linked list: \"))\n",
    "if N > 0:\n",
    "    valuesA = list(map(int, input(\"Enter the values for the first linked list: \").split()))\n",
    "    headA = build_linked_list(valuesA)\n",
    "else:\n",
    "    headA = None\n",
    "\n",
    "M = int(input(\"Enter the number of nodes in the second linked list: \"))\n",
    "if M > 0:\n",
    "    valuesB = list(map(int, input(\"Enter the values for the second linked list: \").split()))\n",
    "    headB = build_linked_list(valuesB)\n",
    "else:\n",
    "    headB = None\n",
    "\n",
    "intersection_position = int(input(\"Enter the position in the first linked list where the second linked list intersects (0 if no intersection): \"))\n",
    "\n",
    "if intersection_position > 0:\n",
    "    currentA = headA\n",
    "    for _ in range(intersection_position - 1):\n",
    "        currentA = currentA.next\n",
    "    currentB = headB\n",
    "    while currentB.next:\n",
    "        currentB = currentB.next\n",
    "    currentB.next = currentA\n",
    "\n",
    "intersection_node = get_intersection_node(headA, headB)\n",
    "\n",
    "if intersection_node:\n",
    "    print(f\"The intersection point is: {intersection_node.value}\")\n",
    "else:\n",
    "    print(\"No intersection found.\")\n"
   ]
  },
  {
   "cell_type": "code",
   "execution_count": null,
   "id": "21671a56",
   "metadata": {},
   "outputs": [],
   "source": []
  },
  {
   "cell_type": "code",
   "execution_count": null,
   "id": "2256a508",
   "metadata": {},
   "outputs": [],
   "source": []
  }
 ],
 "metadata": {
  "kernelspec": {
   "display_name": "Python 3 (ipykernel)",
   "language": "python",
   "name": "python3"
  },
  "language_info": {
   "codemirror_mode": {
    "name": "ipython",
    "version": 3
   },
   "file_extension": ".py",
   "mimetype": "text/x-python",
   "name": "python",
   "nbconvert_exporter": "python",
   "pygments_lexer": "ipython3",
   "version": "3.9.13"
  }
 },
 "nbformat": 4,
 "nbformat_minor": 5
}
