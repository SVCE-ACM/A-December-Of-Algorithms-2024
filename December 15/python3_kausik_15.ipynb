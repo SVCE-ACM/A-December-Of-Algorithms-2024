{
 "cells": [
  {
   "cell_type": "code",
   "execution_count": 11,
   "id": "71176b11",
   "metadata": {},
   "outputs": [
    {
     "name": "stdout",
     "output_type": "stream",
     "text": [
      "4\n"
     ]
    }
   ],
   "source": [
    "def minTrips(houses, W):\n",
    "    trips = 0\n",
    "    current_load = 0\n",
    "\n",
    "    for gifts in houses:\n",
    "        if current_load + gifts > W:\n",
    "            trips += 1\n",
    "            current_load = 0\n",
    "        current_load += gifts\n",
    "\n",
    "    if current_load > 0:\n",
    "        trips += 1\n",
    "\n",
    "    return trips\n",
    "\n",
    "houses = [2, 3, 5, 2, 1,5]\n",
    "W = 6\n",
    "result = minTrips(houses, W)\n",
    "print(result)  \n"
   ]
  },
  {
   "cell_type": "code",
   "execution_count": null,
   "id": "fabbbbbb",
   "metadata": {},
   "outputs": [],
   "source": []
  }
 ],
 "metadata": {
  "kernelspec": {
   "display_name": "Python 3 (ipykernel)",
   "language": "python",
   "name": "python3"
  },
  "language_info": {
   "codemirror_mode": {
    "name": "ipython",
    "version": 3
   },
   "file_extension": ".py",
   "mimetype": "text/x-python",
   "name": "python",
   "nbconvert_exporter": "python",
   "pygments_lexer": "ipython3",
   "version": "3.9.13"
  }
 },
 "nbformat": 4,
 "nbformat_minor": 5
}
